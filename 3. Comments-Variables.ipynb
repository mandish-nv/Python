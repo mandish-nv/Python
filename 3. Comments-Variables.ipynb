{
 "cells": [
  {
   "attachments": {},
   "cell_type": "markdown",
   "metadata": {},
   "source": [
    "## `Comments`\n",
    "* Used to explain logic of the code or provide detail information.\n"
   ]
  },
  {
   "attachments": {},
   "cell_type": "markdown",
   "metadata": {},
   "source": [
    "#### Single Line comments\n",
    "* Any content after `'#' (hash sign)` are considered as comments."
   ]
  },
  {
   "cell_type": "code",
   "execution_count": null,
   "metadata": {},
   "outputs": [],
   "source": [
    "# It is single line comment.\n",
    "print('Hello World.') # It is single line comment.\n",
    "# print('Some Text')"
   ]
  },
  {
   "attachments": {},
   "cell_type": "markdown",
   "metadata": {},
   "source": [
    "#### Multiline Comments."
   ]
  },
  {
   "attachments": {},
   "cell_type": "markdown",
   "metadata": {},
   "source": [
    "* Using `#` sign in multiple lines"
   ]
  },
  {
   "cell_type": "code",
   "execution_count": null,
   "metadata": {},
   "outputs": [],
   "source": [
    "# This comment\n",
    "# is written in\n",
    "# three lines.\n",
    "print(\"Ignoring above comment.\")"
   ]
  },
  {
   "attachments": {},
   "cell_type": "markdown",
   "metadata": {},
   "source": [
    "* Using multiline string (Recommended Method)"
   ]
  },
  {
   "cell_type": "code",
   "execution_count": null,
   "metadata": {},
   "outputs": [],
   "source": [
    "\"\"\"\n",
    "Any number of\n",
    "lines are treated as \n",
    "multiline comment.\n",
    "\"\"\"\n",
    "print(\"Ignoring above comment.\")"
   ]
  },
  {
   "cell_type": "code",
   "execution_count": null,
   "metadata": {},
   "outputs": [],
   "source": [
    "var = 'abc'\n",
    "var"
   ]
  },
  {
   "attachments": {},
   "cell_type": "markdown",
   "metadata": {},
   "source": [
    " ` `"
   ]
  },
  {
   "attachments": {},
   "cell_type": "markdown",
   "metadata": {},
   "source": [
    "## `Indentation`\n",
    "\n",
    "* Indendation is used to define scope of the statements which is defined by curly braces in other programming languages like C, C++, Java, etc.\n",
    "* Incorrect identation raises Indentation error during excution."
   ]
  },
  {
   "cell_type": "code",
   "execution_count": null,
   "metadata": {},
   "outputs": [],
   "source": [
    "var = 'abc'"
   ]
  },
  {
   "attachments": {},
   "cell_type": "markdown",
   "metadata": {},
   "source": [
    "## `Variables`\n",
    "* Container to store data of different data types."
   ]
  },
  {
   "attachments": {},
   "cell_type": "markdown",
   "metadata": {},
   "source": [
    "### `Rules for naming a variable`\n",
    "* A variable name can only contain alpha-numeric characters and underscores (A-z, 0-9, and _ )<br/>\n",
    "* A variable name must start with a letter or the underscore character<br/>\n",
    "* A variable name cannot start with a number<br/>\n",
    "* Variable names are case-sensitive (name, Name and NAME are three different variables)<br/>\n",
    "* A variable name cannot be any of the Python keywords.<br/>"
   ]
  },
  {
   "cell_type": "code",
   "execution_count": null,
   "metadata": {},
   "outputs": [],
   "source": [
    "# Accepted variable names\n",
    "name = ''\n",
    "_name = ''\n",
    "name1 = ''\n",
    "name_1 = ''\n",
    "Name = ''\n",
    "NAME = ''\n",
    "_NAME5 = ''"
   ]
  },
  {
   "cell_type": "code",
   "execution_count": null,
   "metadata": {},
   "outputs": [],
   "source": [
    "# Unaccepted variable names\n",
    "# 1name = ''\n",
    "# 1 name = ''\n",
    "# my name = '' \n",
    "# 1-name = ''"
   ]
  },
  {
   "attachments": {},
   "cell_type": "markdown",
   "metadata": {},
   "source": [
    "* Not necessary to declare variable with particular type as same variable can be assigned with any data type."
   ]
  },
  {
   "cell_type": "code",
   "execution_count": 1,
   "metadata": {},
   "outputs": [
    {
     "name": "stdout",
     "output_type": "stream",
     "text": [
      "Value of brand:  Addidas\n",
      "Type of brand:  <class 'str'>\n"
     ]
    }
   ],
   "source": [
    "# Assigning string value \"Asdidas\" to variable brand. \n",
    "brand = 'Addidas'\n",
    "print('Value of brand: ', brand)\n",
    "print(\"Type of brand: \", type(brand))"
   ]
  },
  {
   "cell_type": "code",
   "execution_count": 2,
   "metadata": {},
   "outputs": [
    {
     "name": "stdout",
     "output_type": "stream",
     "text": [
      "value of brand (after):  10\n",
      "data type of brand (after):  <class 'int'>\n"
     ]
    }
   ],
   "source": [
    "brand = 10\n",
    "print('value of brand (after): ', brand)\n",
    "print('data type of brand (after): ', type(brand))"
   ]
  },
  {
   "attachments": {},
   "cell_type": "markdown",
   "metadata": {},
   "source": [
    "### `Variable Name with Multiple Words`"
   ]
  },
  {
   "attachments": {},
   "cell_type": "markdown",
   "metadata": {},
   "source": [
    "##### `1. Camel Case`\n",
    "* Each of the word starts with uppercase letter except first word.<br/>\n",
    "For instance: camelCaseVariable = someValue"
   ]
  },
  {
   "attachments": {},
   "cell_type": "markdown",
   "metadata": {},
   "source": [
    "##### `1. Pascal Case`\n",
    "* Each of the word starts with uppercase letter.<br/>\n",
    "For instance: PascalCaseVariable = SomeValue"
   ]
  },
  {
   "attachments": {},
   "cell_type": "markdown",
   "metadata": {},
   "source": [
    "##### `1. Snake Case`\n",
    "* Each of the word starts are linked with `_` (underscore) and are all lowercase.<br/>\n",
    "For instance: snake_case_variable = some_value"
   ]
  },
  {
   "attachments": {},
   "cell_type": "markdown",
   "metadata": {},
   "source": [
    "## `Asigning Variables`"
   ]
  },
  {
   "cell_type": "code",
   "execution_count": 3,
   "metadata": {},
   "outputs": [
    {
     "name": "stdout",
     "output_type": "stream",
     "text": [
      "5\n"
     ]
    }
   ],
   "source": [
    "a = 5\n",
    "print(a)"
   ]
  },
  {
   "cell_type": "code",
   "execution_count": null,
   "metadata": {},
   "outputs": [],
   "source": [
    "a, b, c = 5, 6, 7\n",
    "print(a, b, c)"
   ]
  },
  {
   "attachments": {},
   "cell_type": "markdown",
   "metadata": {},
   "source": [
    "### `Many Values to Multiple Variables`"
   ]
  },
  {
   "cell_type": "code",
   "execution_count": null,
   "metadata": {},
   "outputs": [
    {
     "name": "stdout",
     "output_type": "stream",
     "text": [
      "('Mango', 'Cherry', 'Banana')\n"
     ]
    }
   ],
   "source": [
    "fruit1, fruit2, fruit3 = \"Mango\", \"Cherry\", \"Banana\"\n",
    "print(fruit1)\n",
    "print(fruit2)\n",
    "print(fruit3)"
   ]
  },
  {
   "cell_type": "code",
   "execution_count": 8,
   "metadata": {},
   "outputs": [],
   "source": [
    "fruit : list[str] = ['a', 'b', 1]"
   ]
  },
  {
   "attachments": {},
   "cell_type": "markdown",
   "metadata": {},
   "source": [
    "### `One Value to Multiple Variables`"
   ]
  },
  {
   "cell_type": "code",
   "execution_count": 9,
   "metadata": {},
   "outputs": [
    {
     "name": "stdout",
     "output_type": "stream",
     "text": [
      "Orange\n",
      "Orange\n",
      "Orange\n"
     ]
    }
   ],
   "source": [
    "fruit1 = fruit2 = fruit3 = \"Orange\"\n",
    "print(fruit1)\n",
    "print(fruit2)\n",
    "print(fruit3)"
   ]
  },
  {
   "attachments": {},
   "cell_type": "markdown",
   "metadata": {},
   "source": [
    "### `Unpack a Collection`\n",
    "* Values in a list, tuple etc. can be extracted into variables"
   ]
  },
  {
   "cell_type": "code",
   "execution_count": null,
   "metadata": {},
   "outputs": [],
   "source": [
    "fruit1, fruit2, fruit3 = [\"Mango\", \"Cherry\", \"Banana\"]\n",
    "print(fruit1)\n",
    "print(fruit2)\n",
    "print(fruit3)"
   ]
  },
  {
   "cell_type": "code",
   "execution_count": 10,
   "metadata": {},
   "outputs": [
    {
     "name": "stdout",
     "output_type": "stream",
     "text": [
      "['Mango', 'Cherry', 'Banana']\n",
      "a\n",
      "b\n"
     ]
    }
   ],
   "source": [
    "*fruits, a, b = [\"Mango\", \"Cherry\", \"Banana\", 'a', 'b']\n",
    "print(fruits)\n",
    "print(a)\n",
    "print(b)"
   ]
  },
  {
   "cell_type": "code",
   "execution_count": 11,
   "metadata": {},
   "outputs": [
    {
     "name": "stdout",
     "output_type": "stream",
     "text": [
      "Mango\n",
      "['Cherry', 'Banana', 'a']\n",
      "b\n"
     ]
    }
   ],
   "source": [
    "first, *middle, last = [\"Mango\", \"Cherry\", \"Banana\", 'a', 'b']\n",
    "print(first)\n",
    "print(middle)\n",
    "print(last)"
   ]
  }
 ],
 "metadata": {
  "kernelspec": {
   "display_name": "virtual",
   "language": "python",
   "name": "python3"
  },
  "language_info": {
   "codemirror_mode": {
    "name": "ipython",
    "version": 3
   },
   "file_extension": ".py",
   "mimetype": "text/x-python",
   "name": "python",
   "nbconvert_exporter": "python",
   "pygments_lexer": "ipython3",
   "version": "3.12.2"
  },
  "orig_nbformat": 4
 },
 "nbformat": 4,
 "nbformat_minor": 2
}
