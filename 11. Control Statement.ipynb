{
 "cells": [
  {
   "cell_type": "code",
   "execution_count": 1,
   "metadata": {},
   "outputs": [
    {
     "name": "stdout",
     "output_type": "stream",
     "text": [
      "if block executed\n",
      "Outside if block\n"
     ]
    }
   ],
   "source": [
    "condition = True\n",
    "if condition:\n",
    "  print(\"if block executed\")\n",
    "\n",
    "print(\"Outside if block\")"
   ]
  },
  {
   "cell_type": "code",
   "execution_count": null,
   "metadata": {},
   "outputs": [
    {
     "name": "stdout",
     "output_type": "stream",
     "text": [
      "else block executed\n"
     ]
    }
   ],
   "source": [
    "condition = False\n",
    "if condition:\n",
    "  print(\"if block executed\")\n",
    "else:\n",
    "  print(\"else block executed\")"
   ]
  },
  {
   "cell_type": "code",
   "execution_count": null,
   "metadata": {},
   "outputs": [
    {
     "name": "stdout",
     "output_type": "stream",
     "text": [
      "val is greater than 4\n"
     ]
    }
   ],
   "source": [
    "val = 5\n",
    "\n",
    "if val>4:\n",
    "  print(\"val is greater than 4\")\n",
    "elif val<4:\n",
    "  print(\"val is less than 4\")\n",
    "else:\n",
    "  print(\"val is equal to 4\")"
   ]
  },
  {
   "cell_type": "code",
   "execution_count": null,
   "metadata": {},
   "outputs": [
    {
     "name": "stdout",
     "output_type": "stream",
     "text": [
      "First:  False\n",
      "Second:  False\n"
     ]
    }
   ],
   "source": [
    "condition = False\n",
    "if condition:\n",
    "  val = True\n",
    "else:\n",
    "  val = False\n",
    "\n",
    "print ('First: ', val)  \n",
    "val = True if condition else False\n",
    "print ('Second: ', val)  "
   ]
  },
  {
   "cell_type": "markdown",
   "metadata": {},
   "source": [
    "### `Switch` "
   ]
  },
  {
   "cell_type": "code",
   "execution_count": null,
   "metadata": {},
   "outputs": [
    {
     "name": "stdout",
     "output_type": "stream",
     "text": [
      "It's case default case\n"
     ]
    }
   ],
   "source": [
    "val = 4\n",
    "match val:\n",
    "  case 1:\n",
    "    print(\"It's case 1\")\n",
    "  case 2:\n",
    "    print(\"It's case 2\")\n",
    "  case 3:\n",
    "    print(\"It's case 3\")\n",
    "  case _:\n",
    "    print(\"Default case\")"
   ]
  }
 ],
 "metadata": {
  "kernelspec": {
   "display_name": "virtual",
   "language": "python",
   "name": "python3"
  },
  "language_info": {
   "codemirror_mode": {
    "name": "ipython",
    "version": 3
   },
   "file_extension": ".py",
   "mimetype": "text/x-python",
   "name": "python",
   "nbconvert_exporter": "python",
   "pygments_lexer": "ipython3",
   "version": "3.12.2"
  }
 },
 "nbformat": 4,
 "nbformat_minor": 2
}
