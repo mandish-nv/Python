{
 "cells": [
  {
   "cell_type": "code",
   "execution_count": 1,
   "metadata": {},
   "outputs": [
    {
     "name": "stdout",
     "output_type": "stream",
     "text": [
      "Requirement already satisfied: scikit-learn in d:\\csit\\sixth\\python\\virtual\\lib\\site-packages (1.5.2)\n",
      "Requirement already satisfied: numpy>=1.19.5 in d:\\csit\\sixth\\python\\virtual\\lib\\site-packages (from scikit-learn) (2.0.2)\n",
      "Requirement already satisfied: scipy>=1.6.0 in d:\\csit\\sixth\\python\\virtual\\lib\\site-packages (from scikit-learn) (1.14.1)\n",
      "Requirement already satisfied: joblib>=1.2.0 in d:\\csit\\sixth\\python\\virtual\\lib\\site-packages (from scikit-learn) (1.4.2)\n",
      "Requirement already satisfied: threadpoolctl>=3.1.0 in d:\\csit\\sixth\\python\\virtual\\lib\\site-packages (from scikit-learn) (3.5.0)\n"
     ]
    }
   ],
   "source": [
    "! pip install scikit-learn "
   ]
  },
  {
   "cell_type": "code",
   "execution_count": 2,
   "metadata": {},
   "outputs": [],
   "source": [
    "import pandas as pd\n",
    "import sklearn"
   ]
  },
  {
   "cell_type": "code",
   "execution_count": 3,
   "metadata": {},
   "outputs": [],
   "source": [
    "# scikit-learn\n",
    "# - data cleaning & transformatic visualization\n",
    "# - prepare for training\n",
    "# - Training\n",
    "# - Evaluation of trained model \n",
    "# - Inference/ Prediction "
   ]
  },
  {
   "cell_type": "code",
   "execution_count": 4,
   "metadata": {},
   "outputs": [],
   "source": [
    "data_path = \"D:/CSIT/Sixth/Python/data/lr-Real-estate.csv\""
   ]
  },
  {
   "cell_type": "code",
   "execution_count": 5,
   "metadata": {},
   "outputs": [
    {
     "data": {
      "text/plain": [
       "True"
      ]
     },
     "execution_count": 5,
     "metadata": {},
     "output_type": "execute_result"
    }
   ],
   "source": [
    "import os\n",
    "os.path.exists(data_path)"
   ]
  },
  {
   "cell_type": "code",
   "execution_count": 6,
   "metadata": {},
   "outputs": [
    {
     "data": {
      "text/html": [
       "<div>\n",
       "<style scoped>\n",
       "    .dataframe tbody tr th:only-of-type {\n",
       "        vertical-align: middle;\n",
       "    }\n",
       "\n",
       "    .dataframe tbody tr th {\n",
       "        vertical-align: top;\n",
       "    }\n",
       "\n",
       "    .dataframe thead th {\n",
       "        text-align: right;\n",
       "    }\n",
       "</style>\n",
       "<table border=\"1\" class=\"dataframe\">\n",
       "  <thead>\n",
       "    <tr style=\"text-align: right;\">\n",
       "      <th></th>\n",
       "      <th>No</th>\n",
       "      <th>X1 transaction date</th>\n",
       "      <th>X2 house age</th>\n",
       "      <th>X3 distance to the nearest MRT station</th>\n",
       "      <th>X4 number of convenience stores</th>\n",
       "      <th>X5 latitude</th>\n",
       "      <th>X6 longitude</th>\n",
       "      <th>Y house price of unit area</th>\n",
       "    </tr>\n",
       "  </thead>\n",
       "  <tbody>\n",
       "    <tr>\n",
       "      <th>0</th>\n",
       "      <td>1</td>\n",
       "      <td>2012.917</td>\n",
       "      <td>32.0</td>\n",
       "      <td>84.87882</td>\n",
       "      <td>10</td>\n",
       "      <td>24.98298</td>\n",
       "      <td>121.54024</td>\n",
       "      <td>37.9</td>\n",
       "    </tr>\n",
       "    <tr>\n",
       "      <th>1</th>\n",
       "      <td>2</td>\n",
       "      <td>2012.917</td>\n",
       "      <td>19.5</td>\n",
       "      <td>306.59470</td>\n",
       "      <td>9</td>\n",
       "      <td>24.98034</td>\n",
       "      <td>121.53951</td>\n",
       "      <td>42.2</td>\n",
       "    </tr>\n",
       "    <tr>\n",
       "      <th>2</th>\n",
       "      <td>3</td>\n",
       "      <td>2013.583</td>\n",
       "      <td>13.3</td>\n",
       "      <td>561.98450</td>\n",
       "      <td>5</td>\n",
       "      <td>24.98746</td>\n",
       "      <td>121.54391</td>\n",
       "      <td>47.3</td>\n",
       "    </tr>\n",
       "  </tbody>\n",
       "</table>\n",
       "</div>"
      ],
      "text/plain": [
       "   No  X1 transaction date  X2 house age  \\\n",
       "0   1             2012.917          32.0   \n",
       "1   2             2012.917          19.5   \n",
       "2   3             2013.583          13.3   \n",
       "\n",
       "   X3 distance to the nearest MRT station  X4 number of convenience stores  \\\n",
       "0                                84.87882                               10   \n",
       "1                               306.59470                                9   \n",
       "2                               561.98450                                5   \n",
       "\n",
       "   X5 latitude  X6 longitude  Y house price of unit area  \n",
       "0     24.98298     121.54024                        37.9  \n",
       "1     24.98034     121.53951                        42.2  \n",
       "2     24.98746     121.54391                        47.3  "
      ]
     },
     "execution_count": 6,
     "metadata": {},
     "output_type": "execute_result"
    }
   ],
   "source": [
    "df = pd.read_csv(data_path)\n",
    "df.head(3)"
   ]
  },
  {
   "cell_type": "code",
   "execution_count": 7,
   "metadata": {},
   "outputs": [
    {
     "data": {
      "text/plain": [
       "Index(['No', 'X1 transaction date', 'X2 house age',\n",
       "       'X3 distance to the nearest MRT station',\n",
       "       'X4 number of convenience stores', 'X5 latitude', 'X6 longitude',\n",
       "       'Y house price of unit area'],\n",
       "      dtype='object')"
      ]
     },
     "execution_count": 7,
     "metadata": {},
     "output_type": "execute_result"
    }
   ],
   "source": [
    "df.columns"
   ]
  },
  {
   "cell_type": "code",
   "execution_count": 8,
   "metadata": {},
   "outputs": [
    {
     "data": {
      "text/html": [
       "<div>\n",
       "<style scoped>\n",
       "    .dataframe tbody tr th:only-of-type {\n",
       "        vertical-align: middle;\n",
       "    }\n",
       "\n",
       "    .dataframe tbody tr th {\n",
       "        vertical-align: top;\n",
       "    }\n",
       "\n",
       "    .dataframe thead th {\n",
       "        text-align: right;\n",
       "    }\n",
       "</style>\n",
       "<table border=\"1\" class=\"dataframe\">\n",
       "  <thead>\n",
       "    <tr style=\"text-align: right;\">\n",
       "      <th></th>\n",
       "      <th>X2 house age</th>\n",
       "      <th>X3 distance to the nearest MRT station</th>\n",
       "      <th>X4 number of convenience stores</th>\n",
       "      <th>X5 latitude</th>\n",
       "      <th>X6 longitude</th>\n",
       "      <th>Y house price of unit area</th>\n",
       "    </tr>\n",
       "  </thead>\n",
       "  <tbody>\n",
       "    <tr>\n",
       "      <th>0</th>\n",
       "      <td>32.0</td>\n",
       "      <td>84.87882</td>\n",
       "      <td>10</td>\n",
       "      <td>24.98298</td>\n",
       "      <td>121.54024</td>\n",
       "      <td>37.9</td>\n",
       "    </tr>\n",
       "    <tr>\n",
       "      <th>1</th>\n",
       "      <td>19.5</td>\n",
       "      <td>306.59470</td>\n",
       "      <td>9</td>\n",
       "      <td>24.98034</td>\n",
       "      <td>121.53951</td>\n",
       "      <td>42.2</td>\n",
       "    </tr>\n",
       "  </tbody>\n",
       "</table>\n",
       "</div>"
      ],
      "text/plain": [
       "   X2 house age  X3 distance to the nearest MRT station  \\\n",
       "0          32.0                                84.87882   \n",
       "1          19.5                               306.59470   \n",
       "\n",
       "   X4 number of convenience stores  X5 latitude  X6 longitude  \\\n",
       "0                               10     24.98298     121.54024   \n",
       "1                                9     24.98034     121.53951   \n",
       "\n",
       "   Y house price of unit area  \n",
       "0                        37.9  \n",
       "1                        42.2  "
      ]
     },
     "execution_count": 8,
     "metadata": {},
     "output_type": "execute_result"
    }
   ],
   "source": [
    "df = df.drop(['No', 'X1 transaction date'], axis = 1)\n",
    "df.head(2)"
   ]
  },
  {
   "cell_type": "code",
   "execution_count": 9,
   "metadata": {},
   "outputs": [
    {
     "data": {
      "text/plain": [
       "X2 house age                              0\n",
       "X3 distance to the nearest MRT station    0\n",
       "X4 number of convenience stores           0\n",
       "X5 latitude                               0\n",
       "X6 longitude                              0\n",
       "Y house price of unit area                0\n",
       "dtype: int64"
      ]
     },
     "execution_count": 9,
     "metadata": {},
     "output_type": "execute_result"
    }
   ],
   "source": [
    "df.isna().sum()"
   ]
  },
  {
   "cell_type": "code",
   "execution_count": 10,
   "metadata": {},
   "outputs": [
    {
     "data": {
      "text/plain": [
       "np.int64(0)"
      ]
     },
     "execution_count": 10,
     "metadata": {},
     "output_type": "execute_result"
    }
   ],
   "source": [
    "df.duplicated().sum()"
   ]
  },
  {
   "cell_type": "code",
   "execution_count": null,
   "metadata": {},
   "outputs": [
    {
     "name": "stdout",
     "output_type": "stream",
     "text": [
      "<class 'pandas.core.frame.DataFrame'>\n",
      "RangeIndex: 414 entries, 0 to 413\n",
      "Data columns (total 6 columns):\n",
      " #   Column                                  Non-Null Count  Dtype  \n",
      "---  ------                                  --------------  -----  \n",
      " 0   X2 house age                            414 non-null    float64\n",
      " 1   X3 distance to the nearest MRT station  414 non-null    float64\n",
      " 2   X4 number of convenience stores         414 non-null    int64  \n",
      " 3   X5 latitude                             414 non-null    float64\n",
      " 4   X6 longitude                            414 non-null    float64\n",
      " 5   Y house price of unit area              414 non-null    float64\n",
      "dtypes: float64(5), int64(1)\n",
      "memory usage: 19.5 KB\n"
     ]
    }
   ],
   "source": [
    "df.info()"
   ]
  },
  {
   "cell_type": "code",
   "execution_count": 12,
   "metadata": {},
   "outputs": [
    {
     "data": {
      "text/html": [
       "<div>\n",
       "<style scoped>\n",
       "    .dataframe tbody tr th:only-of-type {\n",
       "        vertical-align: middle;\n",
       "    }\n",
       "\n",
       "    .dataframe tbody tr th {\n",
       "        vertical-align: top;\n",
       "    }\n",
       "\n",
       "    .dataframe thead th {\n",
       "        text-align: right;\n",
       "    }\n",
       "</style>\n",
       "<table border=\"1\" class=\"dataframe\">\n",
       "  <thead>\n",
       "    <tr style=\"text-align: right;\">\n",
       "      <th></th>\n",
       "      <th>X2 house age</th>\n",
       "      <th>X3 distance to the nearest MRT station</th>\n",
       "      <th>X4 number of convenience stores</th>\n",
       "      <th>X5 latitude</th>\n",
       "      <th>X6 longitude</th>\n",
       "      <th>Y house price of unit area</th>\n",
       "    </tr>\n",
       "  </thead>\n",
       "  <tbody>\n",
       "    <tr>\n",
       "      <th>count</th>\n",
       "      <td>414.000000</td>\n",
       "      <td>414.000000</td>\n",
       "      <td>414.000000</td>\n",
       "      <td>414.000000</td>\n",
       "      <td>414.000000</td>\n",
       "      <td>414.000000</td>\n",
       "    </tr>\n",
       "    <tr>\n",
       "      <th>mean</th>\n",
       "      <td>17.712560</td>\n",
       "      <td>1083.885689</td>\n",
       "      <td>4.094203</td>\n",
       "      <td>24.969030</td>\n",
       "      <td>121.533361</td>\n",
       "      <td>37.980193</td>\n",
       "    </tr>\n",
       "    <tr>\n",
       "      <th>std</th>\n",
       "      <td>11.392485</td>\n",
       "      <td>1262.109595</td>\n",
       "      <td>2.945562</td>\n",
       "      <td>0.012410</td>\n",
       "      <td>0.015347</td>\n",
       "      <td>13.606488</td>\n",
       "    </tr>\n",
       "    <tr>\n",
       "      <th>min</th>\n",
       "      <td>0.000000</td>\n",
       "      <td>23.382840</td>\n",
       "      <td>0.000000</td>\n",
       "      <td>24.932070</td>\n",
       "      <td>121.473530</td>\n",
       "      <td>7.600000</td>\n",
       "    </tr>\n",
       "    <tr>\n",
       "      <th>25%</th>\n",
       "      <td>9.025000</td>\n",
       "      <td>289.324800</td>\n",
       "      <td>1.000000</td>\n",
       "      <td>24.963000</td>\n",
       "      <td>121.528085</td>\n",
       "      <td>27.700000</td>\n",
       "    </tr>\n",
       "    <tr>\n",
       "      <th>50%</th>\n",
       "      <td>16.100000</td>\n",
       "      <td>492.231300</td>\n",
       "      <td>4.000000</td>\n",
       "      <td>24.971100</td>\n",
       "      <td>121.538630</td>\n",
       "      <td>38.450000</td>\n",
       "    </tr>\n",
       "    <tr>\n",
       "      <th>75%</th>\n",
       "      <td>28.150000</td>\n",
       "      <td>1454.279000</td>\n",
       "      <td>6.000000</td>\n",
       "      <td>24.977455</td>\n",
       "      <td>121.543305</td>\n",
       "      <td>46.600000</td>\n",
       "    </tr>\n",
       "    <tr>\n",
       "      <th>max</th>\n",
       "      <td>43.800000</td>\n",
       "      <td>6488.021000</td>\n",
       "      <td>10.000000</td>\n",
       "      <td>25.014590</td>\n",
       "      <td>121.566270</td>\n",
       "      <td>117.500000</td>\n",
       "    </tr>\n",
       "  </tbody>\n",
       "</table>\n",
       "</div>"
      ],
      "text/plain": [
       "       X2 house age  X3 distance to the nearest MRT station  \\\n",
       "count    414.000000                              414.000000   \n",
       "mean      17.712560                             1083.885689   \n",
       "std       11.392485                             1262.109595   \n",
       "min        0.000000                               23.382840   \n",
       "25%        9.025000                              289.324800   \n",
       "50%       16.100000                              492.231300   \n",
       "75%       28.150000                             1454.279000   \n",
       "max       43.800000                             6488.021000   \n",
       "\n",
       "       X4 number of convenience stores  X5 latitude  X6 longitude  \\\n",
       "count                       414.000000   414.000000    414.000000   \n",
       "mean                          4.094203    24.969030    121.533361   \n",
       "std                           2.945562     0.012410      0.015347   \n",
       "min                           0.000000    24.932070    121.473530   \n",
       "25%                           1.000000    24.963000    121.528085   \n",
       "50%                           4.000000    24.971100    121.538630   \n",
       "75%                           6.000000    24.977455    121.543305   \n",
       "max                          10.000000    25.014590    121.566270   \n",
       "\n",
       "       Y house price of unit area  \n",
       "count                  414.000000  \n",
       "mean                    37.980193  \n",
       "std                     13.606488  \n",
       "min                      7.600000  \n",
       "25%                     27.700000  \n",
       "50%                     38.450000  \n",
       "75%                     46.600000  \n",
       "max                    117.500000  "
      ]
     },
     "execution_count": 12,
     "metadata": {},
     "output_type": "execute_result"
    }
   ],
   "source": [
    "df.describe()"
   ]
  },
  {
   "cell_type": "code",
   "execution_count": 13,
   "metadata": {},
   "outputs": [],
   "source": [
    "import matplotlib.pyplot as plt"
   ]
  },
  {
   "cell_type": "code",
   "execution_count": 14,
   "metadata": {},
   "outputs": [
    {
     "data": {
      "text/plain": [
       "Index(['X2 house age', 'X3 distance to the nearest MRT station',\n",
       "       'X4 number of convenience stores', 'X5 latitude', 'X6 longitude',\n",
       "       'Y house price of unit area'],\n",
       "      dtype='object')"
      ]
     },
     "execution_count": 14,
     "metadata": {},
     "output_type": "execute_result"
    }
   ],
   "source": [
    "df.columns"
   ]
  },
  {
   "cell_type": "code",
   "execution_count": 15,
   "metadata": {},
   "outputs": [
    {
     "data": {
      "text/plain": [
       "array([32. , 19.5, 13.3, 13.3,  5. ,  7.1, 34.5, 20.3, 31.7, 17.9, 34.8,\n",
       "        6.3, 13. , 20.4, 13.2, 35.7,  0. , 17.7, 16.9,  1.5,  4.5, 10.5,\n",
       "       14.7, 10.1, 39.6, 29.3,  3.1, 10.4, 19.2,  7.1, 25.9, 29.6, 37.9,\n",
       "       16.5, 15.4, 13.9, 14.7, 12. ,  3.1, 16.2, 13.6, 16.8, 36.1, 34.4,\n",
       "        2.7, 36.6, 21.7, 35.9, 24.2, 29.4, 21.7, 31.3, 32.1, 13.3, 16.1,\n",
       "       31.7, 33.6,  3.5, 30.3, 13.3, 11. ,  5.3, 17.2,  2.6, 17.5, 40.1,\n",
       "        1. ,  8.5, 30.4, 12.5,  6.6, 35.5, 32.5, 13.8,  6.8, 12.3, 35.9,\n",
       "       20.5, 38.2, 18. , 11.8, 30.8, 13.2, 25.3, 15.1,  0. ,  1.8, 16.9,\n",
       "        8.9, 23. ,  0. ,  9.1, 20.6, 31.9, 40.9,  8. ,  6.4, 28.4, 16.4,\n",
       "        6.4, 17.5, 12.7,  1.1,  0. , 32.7,  0. , 17.2, 12.2, 31.4,  4. ,\n",
       "        8.1, 33.3,  9.9, 14.8, 30.6, 20.6, 30.9, 13.6, 25.3, 16.6, 13.3,\n",
       "       13.6, 31.5,  0. ,  9.9,  1.1, 38.6,  3.8, 41.3, 38.5, 29.6,  4. ,\n",
       "       26.6, 18. , 33.4, 18.9, 11.4, 13.6, 10. , 12.9, 16.2,  5.1, 19.8,\n",
       "       13.6, 11.9,  2.1,  0. ,  3.2, 16.4, 34.9, 35.8,  4.9, 12. ,  6.5,\n",
       "       16.9, 13.8, 30.7, 16.1, 11.6, 15.5,  3.5, 19.2, 16. ,  8.5,  0. ,\n",
       "       13.7,  0. , 28.2, 27.6,  8.4, 24. ,  3.6,  6.6, 41.3,  4.3, 30.2,\n",
       "       13.9, 33. , 13.1, 14. , 26.9, 11.6, 13.5, 17. , 14.1, 31.4, 20.9,\n",
       "        8.9, 34.8, 16.3, 35.3, 13.2, 43.8,  9.7, 15.2, 15.2, 22.8, 34.4,\n",
       "       34. , 18.2, 17.4, 13.1, 38.3, 15.6, 18. , 12.8, 22.2, 38.5, 11.5,\n",
       "       34.8,  5.2,  0. , 17.6,  6.2, 18.1, 19.2, 37.8, 28. , 13.6, 29.3,\n",
       "       37.2,  9. , 30.6,  9.1, 34.5,  1.1, 16.5, 32.4, 11.9, 31. ,  4. ,\n",
       "       16.2, 27.1, 39.7,  8. , 12.9,  3.6, 13. , 12.8, 18.1, 11. , 13.7,\n",
       "        2. , 32.8,  4.8,  7.5, 16.4, 21.7, 19. , 18. , 39.2, 31.7,  5.9,\n",
       "       30.4,  1.1, 31.5, 14.6, 17.3,  0. , 17.7, 17. , 16.2, 15.9,  3.9,\n",
       "       32.6, 15.7, 17.8, 34.7, 17.2, 17.6, 10.8, 17.7, 13. , 13.2, 27.5,\n",
       "        1.5, 19.1, 21.2,  0. ,  2.6,  2.3,  4.7,  2. , 33.5, 15. , 30.1,\n",
       "        5.9, 19.2, 16.6, 13.9, 37.7,  3.4, 17.5, 12.6, 26.4, 18.2, 12.5,\n",
       "       34.9, 16.7, 33.2,  2.5, 38. , 16.5, 38.3, 20. , 16.2, 14.4, 10.3,\n",
       "       16.4, 30.3, 16.4, 21.3, 35.4,  8.3,  3.7, 15.6, 13.3, 15.6,  7.1,\n",
       "       34.6, 13.5, 16.9, 12.9, 28.6, 12.4, 36.6,  4.1,  3.5, 15.9, 13.6,\n",
       "       32. , 25.6, 39.8,  7.8, 30. , 27.3,  5.1, 31.3, 31.5,  1.7, 33.6,\n",
       "       13. ,  5.7, 33.5, 34.6,  0. , 13.2, 17.4,  4.6,  7.8, 13.2,  4. ,\n",
       "       18.4,  4.1, 12.2,  3.8, 10.3,  0. ,  1.1,  5.6, 32.9, 41.4, 17.1,\n",
       "       32.3, 35.3, 17.3, 14.2, 15. , 18.2, 20.2, 15.9,  4.1, 33.9,  0. ,\n",
       "        5.4, 21.7, 14.7,  3.9, 37.3,  0. , 14.1,  8. , 16.3, 29.1, 16.1,\n",
       "       18.3,  0. , 16.2, 10.4, 40.9, 32.8,  6.2, 42.7, 16.9, 32.6, 21.2,\n",
       "       37.1, 13.1, 14.7, 12.7, 26.8,  7.6, 12.7, 30.9, 16.4, 23. ,  1.9,\n",
       "        5.2, 18.5, 13.7,  5.6, 18.8,  8.1,  6.5])"
      ]
     },
     "execution_count": 15,
     "metadata": {},
     "output_type": "execute_result"
    }
   ],
   "source": [
    "house_age = df['X2 house age'].to_numpy()\n",
    "house_age"
   ]
  },
  {
   "cell_type": "code",
   "execution_count": 16,
   "metadata": {},
   "outputs": [
    {
     "name": "stderr",
     "output_type": "stream",
     "text": [
      "C:\\Users\\Dell\\AppData\\Local\\Temp\\ipykernel_25764\\3151889621.py:7: RuntimeWarning: divide by zero encountered in log\n",
      "  np.where(house_age>0, np.log(house_age), house_age),\n"
     ]
    },
    {
     "data": {
      "image/png": "[encoded data removed]",
      "text/plain": [
       "<Figure size 300x300 with 1 Axes>"
      ]
     },
     "metadata": {},
     "output_type": "display_data"
    }
   ],
   "source": [
    "import numpy as np\n",
    "\n",
    "# house_age = -1 * house_age\n",
    "\n",
    "plt.figure(figsize = (3, 3))\n",
    "plt.hist(\n",
    "  np.where(house_age>0, np.log(house_age), house_age),\n",
    "  bins = 30)\n",
    "plt.title('House age distribution')\n",
    "plt.show()\n",
    "\n",
    "# np.log -> inf prob -> value = 0"
   ]
  },
  {
   "cell_type": "code",
   "execution_count": 17,
   "metadata": {},
   "outputs": [],
   "source": [
    "# no particular distribution"
   ]
  },
  {
   "cell_type": "code",
   "execution_count": 18,
   "metadata": {},
   "outputs": [
    {
     "data": {
      "image/png": "[encoded data removed]",
      "text/plain": [
       "<Figure size 300x300 with 1 Axes>"
      ]
     },
     "metadata": {},
     "output_type": "display_data"
    }
   ],
   "source": [
    "plt.figure(figsize = (3, 3))\n",
    "plt.hist(\n",
    "  np.where(house_age>0, np.sqrt(house_age), house_age),\n",
    "  bins = 30)\n",
    "plt.title('House age distribution')\n",
    "plt.show()"
   ]
  },
  {
   "cell_type": "code",
   "execution_count": 19,
   "metadata": {},
   "outputs": [
    {
     "data": {
      "text/plain": [
       "0    32.0\n",
       "1    19.5\n",
       "2    13.3\n",
       "3    13.3\n",
       "4     5.0\n",
       "Name: X2 house age, dtype: float64"
      ]
     },
     "execution_count": 19,
     "metadata": {},
     "output_type": "execute_result"
    }
   ],
   "source": [
    "df['X2 house age'].head()"
   ]
  },
  {
   "cell_type": "code",
   "execution_count": 20,
   "metadata": {},
   "outputs": [],
   "source": [
    "df['X2 house age'] = df['X2 house age'].apply(np.sqrt)"
   ]
  },
  {
   "cell_type": "code",
   "execution_count": 21,
   "metadata": {},
   "outputs": [
    {
     "data": {
      "text/plain": [
       "0    5.656854\n",
       "1    4.415880\n",
       "2    3.646917\n",
       "3    3.646917\n",
       "4    2.236068\n",
       "Name: X2 house age, dtype: float64"
      ]
     },
     "execution_count": 21,
     "metadata": {},
     "output_type": "execute_result"
    }
   ],
   "source": [
    "df['X2 house age'].head()"
   ]
  },
  {
   "cell_type": "code",
   "execution_count": 22,
   "metadata": {},
   "outputs": [
    {
     "data": {
      "image/png": "[encoded data removed]",
      "text/plain": [
       "<Figure size 300x300 with 1 Axes>"
      ]
     },
     "metadata": {},
     "output_type": "display_data"
    }
   ],
   "source": [
    "plt.figure(figsize = (3, 3))\n",
    "plt.hist(\n",
    "  df['X3 distance to the nearest MRT station'].apply(np.log10) \n",
    ")\n",
    "plt.title('House age distribution')\n",
    "plt.show()\n",
    "\n",
    "# higher skewness"
   ]
  },
  {
   "cell_type": "code",
   "execution_count": 23,
   "metadata": {},
   "outputs": [],
   "source": [
    "df['X3 distance to the nearest MRT station'] = (\n",
    "  df['X3 distance to the nearest MRT station'].apply(np.log10)\n",
    ")\n",
    "\n",
    "# run all?"
   ]
  },
  {
   "cell_type": "code",
   "execution_count": 24,
   "metadata": {},
   "outputs": [
    {
     "data": {
      "image/png": "[encoded data removed]",
      "text/plain": [
       "<Figure size 300x300 with 1 Axes>"
      ]
     },
     "metadata": {},
     "output_type": "display_data"
    }
   ],
   "source": [
    "plt.figure(figsize = (3, 3))\n",
    "plt.hist(\n",
    "  df['X4 number of convenience stores'].apply(np.sqrt)\n",
    ")\n",
    "plt.title('House age distribution')\n",
    "plt.show()"
   ]
  },
  {
   "cell_type": "markdown",
   "metadata": {},
   "source": [
    "### Independent-Dependent Splt"
   ]
  },
  {
   "cell_type": "code",
   "execution_count": 25,
   "metadata": {},
   "outputs": [],
   "source": [
    "X = df.drop(['Y house price of unit area'], axis = 1) #independent variable\n",
    "y = df['Y house price of unit area'] #dependent variable"
   ]
  },
  {
   "cell_type": "markdown",
   "metadata": {},
   "source": [
    "### Data split\n",
    "- Train split\n",
    "- Test split"
   ]
  },
  {
   "cell_type": "code",
   "execution_count": 26,
   "metadata": {},
   "outputs": [],
   "source": [
    "from sklearn.model_selection import train_test_split"
   ]
  },
  {
   "cell_type": "code",
   "execution_count": 27,
   "metadata": {},
   "outputs": [],
   "source": [
    "X_train, X_test, y_train, y_test = train_test_split(X, y, test_size=0.2, random_state = 42) # 20% test data, 80% train data"
   ]
  },
  {
   "cell_type": "code",
   "execution_count": 28,
   "metadata": {},
   "outputs": [
    {
     "data": {
      "text/plain": [
       "((331, 5), (331,))"
      ]
     },
     "execution_count": 28,
     "metadata": {},
     "output_type": "execute_result"
    }
   ],
   "source": [
    "X_train.shape, y_train.shape\n",
    "# 331 data, 5 features\n",
    "# y_train -> 1d"
   ]
  },
  {
   "cell_type": "code",
   "execution_count": 29,
   "metadata": {},
   "outputs": [
    {
     "data": {
      "text/plain": [
       "((83, 5), (83,))"
      ]
     },
     "execution_count": 29,
     "metadata": {},
     "output_type": "execute_result"
    }
   ],
   "source": [
    "X_test.shape, y_test.shape"
   ]
  },
  {
   "cell_type": "code",
   "execution_count": 30,
   "metadata": {},
   "outputs": [],
   "source": [
    "from sklearn.linear_model import LinearRegression"
   ]
  },
  {
   "cell_type": "code",
   "execution_count": 31,
   "metadata": {},
   "outputs": [],
   "source": [
    "# parameter AKA Hyperparameter\n",
    "lr_model = LinearRegression()\n",
    "\n",
    "# warm up steps\n",
    "# decay steps"
   ]
  },
  {
   "cell_type": "code",
   "execution_count": 32,
   "metadata": {},
   "outputs": [
    {
     "data": {
      "text/html": [
       "<style>#sk-container-id-1 {\n",
       "  /* Definition of color scheme common for light and dark mode */\n",
       "  --sklearn-color-text: black;\n",
       "  --sklearn-color-line: gray;\n",
       "  /* Definition of color scheme for unfitted estimators */\n",
       "  --sklearn-color-unfitted-level-0: #fff5e6;\n",
       "  --sklearn-color-unfitted-level-1: #f6e4d2;\n",
       "  --sklearn-color-unfitted-level-2: #ffe0b3;\n",
       "  --sklearn-color-unfitted-level-3: chocolate;\n",
       "  /* Definition of color scheme for fitted estimators */\n",
       "  --sklearn-color-fitted-level-0: #f0f8ff;\n",
       "  --sklearn-color-fitted-level-1: #d4ebff;\n",
       "  --sklearn-color-fitted-level-2: #b3dbfd;\n",
       "  --sklearn-color-fitted-level-3: cornflowerblue;\n",
       "\n",
       "  /* Specific color for light theme */\n",
       "  --sklearn-color-text-on-default-background: var(--sg-text-color, var(--theme-code-foreground, var(--jp-content-font-color1, black)));\n",
       "  --sklearn-color-background: var(--sg-background-color, var(--theme-background, var(--jp-layout-color0, white)));\n",
       "  --sklearn-color-border-box: var(--sg-text-color, var(--theme-code-foreground, var(--jp-content-font-color1, black)));\n",
       "  --sklearn-color-icon: #696969;\n",
       "\n",
       "  @media (prefers-color-scheme: dark) {\n",
       "    /* Redefinition of color scheme for dark theme */\n",
       "    --sklearn-color-text-on-default-background: var(--sg-text-color, var(--theme-code-foreground, var(--jp-content-font-color1, white)));\n",
       "    --sklearn-color-background: var(--sg-background-color, var(--theme-background, var(--jp-layout-color0, #111)));\n",
       "    --sklearn-color-border-box: var(--sg-text-color, var(--theme-code-foreground, var(--jp-content-font-color1, white)));\n",
       "    --sklearn-color-icon: #878787;\n",
       "  }\n",
       "}\n",
       "\n",
       "#sk-container-id-1 {\n",
       "  color: var(--sklearn-color-text);\n",
       "}\n",
       "\n",
       "#sk-container-id-1 pre {\n",
       "  padding: 0;\n",
       "}\n",
       "\n",
       "#sk-container-id-1 input.sk-hidden--visually {\n",
       "  border: 0;\n",
       "  clip: rect(1px 1px 1px 1px);\n",
       "  clip: rect(1px, 1px, 1px, 1px);\n",
       "  height: 1px;\n",
       "  margin: -1px;\n",
       "  overflow: hidden;\n",
       "  padding: 0;\n",
       "  position: absolute;\n",
       "  width: 1px;\n",
       "}\n",
       "\n",
       "#sk-container-id-1 div.sk-dashed-wrapped {\n",
       "  border: 1px dashed var(--sklearn-color-line);\n",
       "  margin: 0 0.4em 0.5em 0.4em;\n",
       "  box-sizing: border-box;\n",
       "  padding-bottom: 0.4em;\n",
       "  background-color: var(--sklearn-color-background);\n",
       "}\n",
       "\n",
       "#sk-container-id-1 div.sk-container {\n",
       "  /* jupyter's `normalize.less` sets `[hidden] { display: none; }`\n",
       "     but bootstrap.min.css set `[hidden] { display: none !important; }`\n",
       "     so we also need the `!important` here to be able to override the\n",
       "     default hidden behavior on the sphinx rendered scikit-learn.org.\n",
       "     See: https://github.com/scikit-learn/scikit-learn/issues/21755 */\n",
       "  display: inline-block !important;\n",
       "  position: relative;\n",
       "}\n",
       "\n",
       "#sk-container-id-1 div.sk-text-repr-fallback {\n",
       "  display: none;\n",
       "}\n",
       "\n",
       "div.sk-parallel-item,\n",
       "div.sk-serial,\n",
       "div.sk-item {\n",
       "  /* draw centered vertical line to link estimators */\n",
       "  background-image: linear-gradient(var(--sklearn-color-text-on-default-background), var(--sklearn-color-text-on-default-background));\n",
       "  background-size: 2px 100%;\n",
       "  background-repeat: no-repeat;\n",
       "  background-position: center center;\n",
       "}\n",
       "\n",
       "/* Parallel-specific style estimator block */\n",
       "\n",
       "#sk-container-id-1 div.sk-parallel-item::after {\n",
       "  content: \"\";\n",
       "  width: 100%;\n",
       "  border-bottom: 2px solid var(--sklearn-color-text-on-default-background);\n",
       "  flex-grow: 1;\n",
       "}\n",
       "\n",
       "#sk-container-id-1 div.sk-parallel {\n",
       "  display: flex;\n",
       "  align-items: stretch;\n",
       "  justify-content: center;\n",
       "  background-color: var(--sklearn-color-background);\n",
       "  position: relative;\n",
       "}\n",
       "\n",
       "#sk-container-id-1 div.sk-parallel-item {\n",
       "  display: flex;\n",
       "  flex-direction: column;\n",
       "}\n",
       "\n",
       "#sk-container-id-1 div.sk-parallel-item:first-child::after {\n",
       "  align-self: flex-end;\n",
       "  width: 50%;\n",
       "}\n",
       "\n",
       "#sk-container-id-1 div.sk-parallel-item:last-child::after {\n",
       "  align-self: flex-start;\n",
       "  width: 50%;\n",
       "}\n",
       "\n",
       "#sk-container-id-1 div.sk-parallel-item:only-child::after {\n",
       "  width: 0;\n",
       "}\n",
       "\n",
       "/* Serial-specific style estimator block */\n",
       "\n",
       "#sk-container-id-1 div.sk-serial {\n",
       "  display: flex;\n",
       "  flex-direction: column;\n",
       "  align-items: center;\n",
       "  background-color: var(--sklearn-color-background);\n",
       "  padding-right: 1em;\n",
       "  padding-left: 1em;\n",
       "}\n",
       "\n",
       "\n",
       "/* Toggleable style: style used for estimator/Pipeline/ColumnTransformer box that is\n",
       "clickable and can be expanded/collapsed.\n",
       "- Pipeline and ColumnTransformer use this feature and define the default style\n",
       "- Estimators will overwrite some part of the style using the `sk-estimator` class\n",
       "*/\n",
       "\n",
       "/* Pipeline and ColumnTransformer style (default) */\n",
       "\n",
       "#sk-container-id-1 div.sk-toggleable {\n",
       "  /* Default theme specific background. It is overwritten whether we have a\n",
       "  specific estimator or a Pipeline/ColumnTransformer */\n",
       "  background-color: var(--sklearn-color-background);\n",
       "}\n",
       "\n",
       "/* Toggleable label */\n",
       "#sk-container-id-1 label.sk-toggleable__label {\n",
       "  cursor: pointer;\n",
       "  display: block;\n",
       "  width: 100%;\n",
       "  margin-bottom: 0;\n",
       "  padding: 0.5em;\n",
       "  box-sizing: border-box;\n",
       "  text-align: center;\n",
       "}\n",
       "\n",
       "#sk-container-id-1 label.sk-toggleable__label-arrow:before {\n",
       "  /* Arrow on the left of the label */\n",
       "  content: \"▸\";\n",
       "  float: left;\n",
       "  margin-right: 0.25em;\n",
       "  color: var(--sklearn-color-icon);\n",
       "}\n",
       "\n",
       "#sk-container-id-1 label.sk-toggleable__label-arrow:hover:before {\n",
       "  color: var(--sklearn-color-text);\n",
       "}\n",
       "\n",
       "/* Toggleable content - dropdown */\n",
       "\n",
       "#sk-container-id-1 div.sk-toggleable__content {\n",
       "  max-height: 0;\n",
       "  max-width: 0;\n",
       "  overflow: hidden;\n",
       "  text-align: left;\n",
       "  /* unfitted */\n",
       "  background-color: var(--sklearn-color-unfitted-level-0);\n",
       "}\n",
       "\n",
       "#sk-container-id-1 div.sk-toggleable__content.fitted {\n",
       "  /* fitted */\n",
       "  background-color: var(--sklearn-color-fitted-level-0);\n",
       "}\n",
       "\n",
       "#sk-container-id-1 div.sk-toggleable__content pre {\n",
       "  margin: 0.2em;\n",
       "  border-radius: 0.25em;\n",
       "  color: var(--sklearn-color-text);\n",
       "  /* unfitted */\n",
       "  background-color: var(--sklearn-color-unfitted-level-0);\n",
       "}\n",
       "\n",
       "#sk-container-id-1 div.sk-toggleable__content.fitted pre {\n",
       "  /* unfitted */\n",
       "  background-color: var(--sklearn-color-fitted-level-0);\n",
       "}\n",
       "\n",
       "#sk-container-id-1 input.sk-toggleable__control:checked~div.sk-toggleable__content {\n",
       "  /* Expand drop-down */\n",
       "  max-height: 200px;\n",
       "  max-width: 100%;\n",
       "  overflow: auto;\n",
       "}\n",
       "\n",
       "#sk-container-id-1 input.sk-toggleable__control:checked~label.sk-toggleable__label-arrow:before {\n",
       "  content: \"▾\";\n",
       "}\n",
       "\n",
       "/* Pipeline/ColumnTransformer-specific style */\n",
       "\n",
       "#sk-container-id-1 div.sk-label input.sk-toggleable__control:checked~label.sk-toggleable__label {\n",
       "  color: var(--sklearn-color-text);\n",
       "  background-color: var(--sklearn-color-unfitted-level-2);\n",
       "}\n",
       "\n",
       "#sk-container-id-1 div.sk-label.fitted input.sk-toggleable__control:checked~label.sk-toggleable__label {\n",
       "  background-color: var(--sklearn-color-fitted-level-2);\n",
       "}\n",
       "\n",
       "/* Estimator-specific style */\n",
       "\n",
       "/* Colorize estimator box */\n",
       "#sk-container-id-1 div.sk-estimator input.sk-toggleable__control:checked~label.sk-toggleable__label {\n",
       "  /* unfitted */\n",
       "  background-color: var(--sklearn-color-unfitted-level-2);\n",
       "}\n",
       "\n",
       "#sk-container-id-1 div.sk-estimator.fitted input.sk-toggleable__control:checked~label.sk-toggleable__label {\n",
       "  /* fitted */\n",
       "  background-color: var(--sklearn-color-fitted-level-2);\n",
       "}\n",
       "\n",
       "#sk-container-id-1 div.sk-label label.sk-toggleable__label,\n",
       "#sk-container-id-1 div.sk-label label {\n",
       "  /* The background is the default theme color */\n",
       "  color: var(--sklearn-color-text-on-default-background);\n",
       "}\n",
       "\n",
       "/* On hover, darken the color of the background */\n",
       "#sk-container-id-1 div.sk-label:hover label.sk-toggleable__label {\n",
       "  color: var(--sklearn-color-text);\n",
       "  background-color: var(--sklearn-color-unfitted-level-2);\n",
       "}\n",
       "\n",
       "/* Label box, darken color on hover, fitted */\n",
       "#sk-container-id-1 div.sk-label.fitted:hover label.sk-toggleable__label.fitted {\n",
       "  color: var(--sklearn-color-text);\n",
       "  background-color: var(--sklearn-color-fitted-level-2);\n",
       "}\n",
       "\n",
       "/* Estimator label */\n",
       "\n",
       "#sk-container-id-1 div.sk-label label {\n",
       "  font-family: monospace;\n",
       "  font-weight: bold;\n",
       "  display: inline-block;\n",
       "  line-height: 1.2em;\n",
       "}\n",
       "\n",
       "#sk-container-id-1 div.sk-label-container {\n",
       "  text-align: center;\n",
       "}\n",
       "\n",
       "/* Estimator-specific */\n",
       "#sk-container-id-1 div.sk-estimator {\n",
       "  font-family: monospace;\n",
       "  border: 1px dotted var(--sklearn-color-border-box);\n",
       "  border-radius: 0.25em;\n",
       "  box-sizing: border-box;\n",
       "  margin-bottom: 0.5em;\n",
       "  /* unfitted */\n",
       "  background-color: var(--sklearn-color-unfitted-level-0);\n",
       "}\n",
       "\n",
       "#sk-container-id-1 div.sk-estimator.fitted {\n",
       "  /* fitted */\n",
       "  background-color: var(--sklearn-color-fitted-level-0);\n",
       "}\n",
       "\n",
       "/* on hover */\n",
       "#sk-container-id-1 div.sk-estimator:hover {\n",
       "  /* unfitted */\n",
       "  background-color: var(--sklearn-color-unfitted-level-2);\n",
       "}\n",
       "\n",
       "#sk-container-id-1 div.sk-estimator.fitted:hover {\n",
       "  /* fitted */\n",
       "  background-color: var(--sklearn-color-fitted-level-2);\n",
       "}\n",
       "\n",
       "/* Specification for estimator info (e.g. \"i\" and \"?\") */\n",
       "\n",
       "/* Common style for \"i\" and \"?\" */\n",
       "\n",
       ".sk-estimator-doc-link,\n",
       "a:link.sk-estimator-doc-link,\n",
       "a:visited.sk-estimator-doc-link {\n",
       "  float: right;\n",
       "  font-size: smaller;\n",
       "  line-height: 1em;\n",
       "  font-family: monospace;\n",
       "  background-color: var(--sklearn-color-background);\n",
       "  border-radius: 1em;\n",
       "  height: 1em;\n",
       "  width: 1em;\n",
       "  text-decoration: none !important;\n",
       "  margin-left: 1ex;\n",
       "  /* unfitted */\n",
       "  border: var(--sklearn-color-unfitted-level-1) 1pt solid;\n",
       "  color: var(--sklearn-color-unfitted-level-1);\n",
       "}\n",
       "\n",
       ".sk-estimator-doc-link.fitted,\n",
       "a:link.sk-estimator-doc-link.fitted,\n",
       "a:visited.sk-estimator-doc-link.fitted {\n",
       "  /* fitted */\n",
       "  border: var(--sklearn-color-fitted-level-1) 1pt solid;\n",
       "  color: var(--sklearn-color-fitted-level-1);\n",
       "}\n",
       "\n",
       "/* On hover */\n",
       "div.sk-estimator:hover .sk-estimator-doc-link:hover,\n",
       ".sk-estimator-doc-link:hover,\n",
       "div.sk-label-container:hover .sk-estimator-doc-link:hover,\n",
       ".sk-estimator-doc-link:hover {\n",
       "  /* unfitted */\n",
       "  background-color: var(--sklearn-color-unfitted-level-3);\n",
       "  color: var(--sklearn-color-background);\n",
       "  text-decoration: none;\n",
       "}\n",
       "\n",
       "div.sk-estimator.fitted:hover .sk-estimator-doc-link.fitted:hover,\n",
       ".sk-estimator-doc-link.fitted:hover,\n",
       "div.sk-label-container:hover .sk-estimator-doc-link.fitted:hover,\n",
       ".sk-estimator-doc-link.fitted:hover {\n",
       "  /* fitted */\n",
       "  background-color: var(--sklearn-color-fitted-level-3);\n",
       "  color: var(--sklearn-color-background);\n",
       "  text-decoration: none;\n",
       "}\n",
       "\n",
       "/* Span, style for the box shown on hovering the info icon */\n",
       ".sk-estimator-doc-link span {\n",
       "  display: none;\n",
       "  z-index: 9999;\n",
       "  position: relative;\n",
       "  font-weight: normal;\n",
       "  right: .2ex;\n",
       "  padding: .5ex;\n",
       "  margin: .5ex;\n",
       "  width: min-content;\n",
       "  min-width: 20ex;\n",
       "  max-width: 50ex;\n",
       "  color: var(--sklearn-color-text);\n",
       "  box-shadow: 2pt 2pt 4pt #999;\n",
       "  /* unfitted */\n",
       "  background: var(--sklearn-color-unfitted-level-0);\n",
       "  border: .5pt solid var(--sklearn-color-unfitted-level-3);\n",
       "}\n",
       "\n",
       ".sk-estimator-doc-link.fitted span {\n",
       "  /* fitted */\n",
       "  background: var(--sklearn-color-fitted-level-0);\n",
       "  border: var(--sklearn-color-fitted-level-3);\n",
       "}\n",
       "\n",
       ".sk-estimator-doc-link:hover span {\n",
       "  display: block;\n",
       "}\n",
       "\n",
       "/* \"?\"-specific style due to the `<a>` HTML tag */\n",
       "\n",
       "#sk-container-id-1 a.estimator_doc_link {\n",
       "  float: right;\n",
       "  font-size: 1rem;\n",
       "  line-height: 1em;\n",
       "  font-family: monospace;\n",
       "  background-color: var(--sklearn-color-background);\n",
       "  border-radius: 1rem;\n",
       "  height: 1rem;\n",
       "  width: 1rem;\n",
       "  text-decoration: none;\n",
       "  /* unfitted */\n",
       "  color: var(--sklearn-color-unfitted-level-1);\n",
       "  border: var(--sklearn-color-unfitted-level-1) 1pt solid;\n",
       "}\n",
       "\n",
       "#sk-container-id-1 a.estimator_doc_link.fitted {\n",
       "  /* fitted */\n",
       "  border: var(--sklearn-color-fitted-level-1) 1pt solid;\n",
       "  color: var(--sklearn-color-fitted-level-1);\n",
       "}\n",
       "\n",
       "/* On hover */\n",
       "#sk-container-id-1 a.estimator_doc_link:hover {\n",
       "  /* unfitted */\n",
       "  background-color: var(--sklearn-color-unfitted-level-3);\n",
       "  color: var(--sklearn-color-background);\n",
       "  text-decoration: none;\n",
       "}\n",
       "\n",
       "#sk-container-id-1 a.estimator_doc_link.fitted:hover {\n",
       "  /* fitted */\n",
       "  background-color: var(--sklearn-color-fitted-level-3);\n",
       "}\n",
       "</style><div id=\"sk-container-id-1\" class=\"sk-top-container\"><div class=\"sk-text-repr-fallback\"><pre>LinearRegression()</pre><b>In a Jupyter environment, please rerun this cell to show the HTML representation or trust the notebook. <br />On GitHub, the HTML representation is unable to render, please try loading this page with nbviewer.org.</b></div><div class=\"sk-container\" hidden><div class=\"sk-item\"><div class=\"sk-estimator fitted sk-toggleable\"><input class=\"sk-toggleable__control sk-hidden--visually\" id=\"sk-estimator-id-1\" type=\"checkbox\" checked><label for=\"sk-estimator-id-1\" class=\"sk-toggleable__label fitted sk-toggleable__label-arrow fitted\">&nbsp;&nbsp;LinearRegression<a class=\"sk-estimator-doc-link fitted\" rel=\"noreferrer\" target=\"_blank\" href=\"https://scikit-learn.org/1.5/modules/generated/sklearn.linear_model.LinearRegression.html\">?<span>Documentation for LinearRegression</span></a><span class=\"sk-estimator-doc-link fitted\">i<span>Fitted</span></span></label><div class=\"sk-toggleable__content fitted\"><pre>LinearRegression()</pre></div> </div></div></div></div>"
      ],
      "text/plain": [
       "LinearRegression()"
      ]
     },
     "execution_count": 32,
     "metadata": {},
     "output_type": "execute_result"
    }
   ],
   "source": [
    "lr_model.fit(X_train, y_train)"
   ]
  },
  {
   "cell_type": "code",
   "execution_count": 33,
   "metadata": {},
   "outputs": [],
   "source": [
    "predictions = lr_model.predict(X_test)"
   ]
  },
  {
   "cell_type": "code",
   "execution_count": 34,
   "metadata": {},
   "outputs": [
    {
     "data": {
      "text/plain": [
       "(83,)"
      ]
     },
     "execution_count": 34,
     "metadata": {},
     "output_type": "execute_result"
    }
   ],
   "source": [
    "predictions.shape"
   ]
  },
  {
   "cell_type": "code",
   "execution_count": 35,
   "metadata": {},
   "outputs": [
    {
     "data": {
      "text/html": [
       "<div>\n",
       "<style scoped>\n",
       "    .dataframe tbody tr th:only-of-type {\n",
       "        vertical-align: middle;\n",
       "    }\n",
       "\n",
       "    .dataframe tbody tr th {\n",
       "        vertical-align: top;\n",
       "    }\n",
       "\n",
       "    .dataframe thead th {\n",
       "        text-align: right;\n",
       "    }\n",
       "</style>\n",
       "<table border=\"1\" class=\"dataframe\">\n",
       "  <thead>\n",
       "    <tr style=\"text-align: right;\">\n",
       "      <th></th>\n",
       "      <th>GT</th>\n",
       "      <th>Predictions</th>\n",
       "    </tr>\n",
       "  </thead>\n",
       "  <tbody>\n",
       "    <tr>\n",
       "      <th>358</th>\n",
       "      <td>45.1</td>\n",
       "      <td>50.838509</td>\n",
       "    </tr>\n",
       "    <tr>\n",
       "      <th>350</th>\n",
       "      <td>42.3</td>\n",
       "      <td>39.138891</td>\n",
       "    </tr>\n",
       "    <tr>\n",
       "      <th>373</th>\n",
       "      <td>52.2</td>\n",
       "      <td>51.343501</td>\n",
       "    </tr>\n",
       "    <tr>\n",
       "      <th>399</th>\n",
       "      <td>37.3</td>\n",
       "      <td>47.009681</td>\n",
       "    </tr>\n",
       "    <tr>\n",
       "      <th>369</th>\n",
       "      <td>22.8</td>\n",
       "      <td>26.471696</td>\n",
       "    </tr>\n",
       "    <tr>\n",
       "      <th>72</th>\n",
       "      <td>36.3</td>\n",
       "      <td>40.322861</td>\n",
       "    </tr>\n",
       "    <tr>\n",
       "      <th>262</th>\n",
       "      <td>53.0</td>\n",
       "      <td>46.795052</td>\n",
       "    </tr>\n",
       "    <tr>\n",
       "      <th>140</th>\n",
       "      <td>51.4</td>\n",
       "      <td>46.720676</td>\n",
       "    </tr>\n",
       "    <tr>\n",
       "      <th>93</th>\n",
       "      <td>16.1</td>\n",
       "      <td>23.027449</td>\n",
       "    </tr>\n",
       "    <tr>\n",
       "      <th>70</th>\n",
       "      <td>59.0</td>\n",
       "      <td>56.436270</td>\n",
       "    </tr>\n",
       "    <tr>\n",
       "      <th>118</th>\n",
       "      <td>30.6</td>\n",
       "      <td>28.357269</td>\n",
       "    </tr>\n",
       "    <tr>\n",
       "      <th>131</th>\n",
       "      <td>30.7</td>\n",
       "      <td>31.471629</td>\n",
       "    </tr>\n",
       "    <tr>\n",
       "      <th>336</th>\n",
       "      <td>35.6</td>\n",
       "      <td>37.629107</td>\n",
       "    </tr>\n",
       "    <tr>\n",
       "      <th>55</th>\n",
       "      <td>13.7</td>\n",
       "      <td>23.123277</td>\n",
       "    </tr>\n",
       "    <tr>\n",
       "      <th>126</th>\n",
       "      <td>62.9</td>\n",
       "      <td>34.325915</td>\n",
       "    </tr>\n",
       "  </tbody>\n",
       "</table>\n",
       "</div>"
      ],
      "text/plain": [
       "       GT  Predictions\n",
       "358  45.1    50.838509\n",
       "350  42.3    39.138891\n",
       "373  52.2    51.343501\n",
       "399  37.3    47.009681\n",
       "369  22.8    26.471696\n",
       "72   36.3    40.322861\n",
       "262  53.0    46.795052\n",
       "140  51.4    46.720676\n",
       "93   16.1    23.027449\n",
       "70   59.0    56.436270\n",
       "118  30.6    28.357269\n",
       "131  30.7    31.471629\n",
       "336  35.6    37.629107\n",
       "55   13.7    23.123277\n",
       "126  62.9    34.325915"
      ]
     },
     "execution_count": 35,
     "metadata": {},
     "output_type": "execute_result"
    }
   ],
   "source": [
    "d = {\n",
    "  'GT': y_test, # Ground Truth\n",
    "  'Predictions': predictions\n",
    "}\n",
    "comparison_df = pd.DataFrame(d)\n",
    "comparison_df.head(15)"
   ]
  },
  {
   "cell_type": "code",
   "execution_count": 36,
   "metadata": {},
   "outputs": [
    {
     "data": {
      "text/plain": [
       "np.float64(7.003753676000623)"
      ]
     },
     "execution_count": 36,
     "metadata": {},
     "output_type": "execute_result"
    }
   ],
   "source": [
    "from sklearn.metrics import root_mean_squared_error\n",
    "# MAE, MSE, RMSE (types of error)\n",
    "root_mean_squared_error(y_test, predictions)\n",
    "# Loss = 1/n * sum(y - y_hat)^2\n",
    "\n",
    "# bias ma input chai multiply gardaina"
   ]
  },
  {
   "cell_type": "code",
   "execution_count": 37,
   "metadata": {},
   "outputs": [],
   "source": [
    "# restart to remove previous changes\n",
    "import lr"
   ]
  },
  {
   "cell_type": "code",
   "execution_count": 38,
   "metadata": {},
   "outputs": [],
   "source": [
    "custom_lr = lr.CustomLinearRegression1()"
   ]
  },
  {
   "cell_type": "code",
   "execution_count": 39,
   "metadata": {},
   "outputs": [
    {
     "data": {
      "text/plain": [
       "<lr.CustomLinearRegression1 at 0x2dbf78bce60>"
      ]
     },
     "execution_count": 39,
     "metadata": {},
     "output_type": "execute_result"
    }
   ],
   "source": [
    "custom_lr.fit(X_train[['X2 house age', 'X5 latitude']], y_train)"
   ]
  },
  {
   "cell_type": "code",
   "execution_count": 40,
   "metadata": {},
   "outputs": [],
   "source": [
    "custom_preds = custom_lr.predict(X_test[['X2 house age', 'X5 latitude']])"
   ]
  },
  {
   "cell_type": "code",
   "execution_count": 41,
   "metadata": {},
   "outputs": [
    {
     "data": {
      "text/plain": [
       "np.int64(0)"
      ]
     },
     "execution_count": 41,
     "metadata": {},
     "output_type": "execute_result"
    }
   ],
   "source": [
    "custom_preds.isna().sum()"
   ]
  },
  {
   "cell_type": "code",
   "execution_count": 42,
   "metadata": {},
   "outputs": [
    {
     "data": {
      "text/plain": [
       "358    32.923864\n",
       "350    33.451972\n",
       "373    32.720939\n",
       "399    33.448761\n",
       "369    33.625726\n",
       "         ...    \n",
       "31     33.844518\n",
       "283    33.920644\n",
       "157    33.547213\n",
       "203    33.538439\n",
       "208    33.385594\n",
       "Length: 83, dtype: float64"
      ]
     },
     "execution_count": 42,
     "metadata": {},
     "output_type": "execute_result"
    }
   ],
   "source": [
    "custom_preds"
   ]
  },
  {
   "cell_type": "code",
   "execution_count": 43,
   "metadata": {},
   "outputs": [
    {
     "data": {
      "text/plain": [
       "np.float64(13.31906921244994)"
      ]
     },
     "execution_count": 43,
     "metadata": {},
     "output_type": "execute_result"
    }
   ],
   "source": [
    "root_mean_squared_error(y_test, custom_preds)"
   ]
  },
  {
   "cell_type": "code",
   "execution_count": 44,
   "metadata": {},
   "outputs": [
    {
     "data": {
      "text/plain": [
       "(331, 5)"
      ]
     },
     "execution_count": 44,
     "metadata": {},
     "output_type": "execute_result"
    }
   ],
   "source": [
    "X_train.shape"
   ]
  },
  {
   "cell_type": "code",
   "execution_count": 45,
   "metadata": {},
   "outputs": [
    {
     "data": {
      "text/html": [
       "<div>\n",
       "<style scoped>\n",
       "    .dataframe tbody tr th:only-of-type {\n",
       "        vertical-align: middle;\n",
       "    }\n",
       "\n",
       "    .dataframe tbody tr th {\n",
       "        vertical-align: top;\n",
       "    }\n",
       "\n",
       "    .dataframe thead th {\n",
       "        text-align: right;\n",
       "    }\n",
       "</style>\n",
       "<table border=\"1\" class=\"dataframe\">\n",
       "  <thead>\n",
       "    <tr style=\"text-align: right;\">\n",
       "      <th></th>\n",
       "      <th>X2 house age</th>\n",
       "      <th>X3 distance to the nearest MRT station</th>\n",
       "      <th>X4 number of convenience stores</th>\n",
       "      <th>X5 latitude</th>\n",
       "      <th>X6 longitude</th>\n",
       "    </tr>\n",
       "  </thead>\n",
       "  <tbody>\n",
       "    <tr>\n",
       "      <th>count</th>\n",
       "      <td>331.000000</td>\n",
       "      <td>331.000000</td>\n",
       "      <td>331.000000</td>\n",
       "      <td>331.000000</td>\n",
       "      <td>331.000000</td>\n",
       "    </tr>\n",
       "    <tr>\n",
       "      <th>mean</th>\n",
       "      <td>3.849507</td>\n",
       "      <td>2.773145</td>\n",
       "      <td>4.145015</td>\n",
       "      <td>24.969333</td>\n",
       "      <td>121.533885</td>\n",
       "    </tr>\n",
       "    <tr>\n",
       "      <th>std</th>\n",
       "      <td>1.574040</td>\n",
       "      <td>0.476760</td>\n",
       "      <td>2.953703</td>\n",
       "      <td>0.012484</td>\n",
       "      <td>0.014976</td>\n",
       "    </tr>\n",
       "    <tr>\n",
       "      <th>min</th>\n",
       "      <td>0.000000</td>\n",
       "      <td>1.368897</td>\n",
       "      <td>0.000000</td>\n",
       "      <td>24.932070</td>\n",
       "      <td>121.475160</td>\n",
       "    </tr>\n",
       "    <tr>\n",
       "      <th>25%</th>\n",
       "      <td>2.906876</td>\n",
       "      <td>2.461386</td>\n",
       "      <td>1.000000</td>\n",
       "      <td>24.963010</td>\n",
       "      <td>121.529665</td>\n",
       "    </tr>\n",
       "    <tr>\n",
       "      <th>50%</th>\n",
       "      <td>3.987480</td>\n",
       "      <td>2.692169</td>\n",
       "      <td>4.000000</td>\n",
       "      <td>24.971100</td>\n",
       "      <td>121.539170</td>\n",
       "    </tr>\n",
       "    <tr>\n",
       "      <th>75%</th>\n",
       "      <td>5.215353</td>\n",
       "      <td>3.159244</td>\n",
       "      <td>6.000000</td>\n",
       "      <td>24.978260</td>\n",
       "      <td>121.543480</td>\n",
       "    </tr>\n",
       "    <tr>\n",
       "      <th>max</th>\n",
       "      <td>6.618157</td>\n",
       "      <td>3.799765</td>\n",
       "      <td>10.000000</td>\n",
       "      <td>25.014590</td>\n",
       "      <td>121.566270</td>\n",
       "    </tr>\n",
       "  </tbody>\n",
       "</table>\n",
       "</div>"
      ],
      "text/plain": [
       "       X2 house age  X3 distance to the nearest MRT station  \\\n",
       "count    331.000000                              331.000000   \n",
       "mean       3.849507                                2.773145   \n",
       "std        1.574040                                0.476760   \n",
       "min        0.000000                                1.368897   \n",
       "25%        2.906876                                2.461386   \n",
       "50%        3.987480                                2.692169   \n",
       "75%        5.215353                                3.159244   \n",
       "max        6.618157                                3.799765   \n",
       "\n",
       "       X4 number of convenience stores  X5 latitude  X6 longitude  \n",
       "count                       331.000000   331.000000    331.000000  \n",
       "mean                          4.145015    24.969333    121.533885  \n",
       "std                           2.953703     0.012484      0.014976  \n",
       "min                           0.000000    24.932070    121.475160  \n",
       "25%                           1.000000    24.963010    121.529665  \n",
       "50%                           4.000000    24.971100    121.539170  \n",
       "75%                           6.000000    24.978260    121.543480  \n",
       "max                          10.000000    25.014590    121.566270  "
      ]
     },
     "execution_count": 45,
     "metadata": {},
     "output_type": "execute_result"
    }
   ],
   "source": [
    "X_train.describe()"
   ]
  },
  {
   "cell_type": "code",
   "execution_count": 46,
   "metadata": {},
   "outputs": [
    {
     "data": {
      "text/plain": [
       "array([0.35522676, 0.17456443, 0.69076808, 0.4618481 , 0.03399108])"
      ]
     },
     "execution_count": 46,
     "metadata": {},
     "output_type": "execute_result"
    }
   ],
   "source": [
    "np.random.random(5)"
   ]
  },
  {
   "cell_type": "code",
   "execution_count": 47,
   "metadata": {},
   "outputs": [
    {
     "name": "stdout",
     "output_type": "stream",
     "text": [
      "Epoch 1\n",
      "grad_b=np.float64(142.95859935073392), grad_w=array([  567.53484428,   408.11146081,   530.22248264,  3569.36639734,\n",
      "       17374.06571586])\n",
      "self.b=np.float64(-0.9799712806440845), self.w=array([ 0.83848288,  0.42769282, -1.0091574 , -1.21431592, -0.65571277])\n",
      "Epoch 2\n",
      "grad_b=np.float64(-298.3053270548775), grad_w=array([ -1131.39524331,   -815.48770854,  -1299.74645157,  -7448.70149264,\n",
      "       -36254.45600261])\n",
      "self.b=np.float64(-0.9501407479385967), self.w=array([ 0.95162241,  0.50924159, -0.87918275, -0.46944577,  2.96973283])\n",
      "Epoch 3\n",
      "grad_b=np.float64(622.5819862141179), grad_w=array([ 2414.12779509,  1738.03926272,  2519.61520267, 15545.24523702,\n",
      "       75664.56270671])\n",
      "self.b=np.float64(-1.0123989465600085), self.w=array([ 0.71020963,  0.33543767, -1.13114427, -2.02397029, -4.59672344])\n",
      "Epoch 4\n",
      "grad_b=np.float64(-1299.2464472517822), grad_w=array([  -4985.16133678,   -3591.0356031 ,   -5450.78728735,\n",
      "        -32441.53816287, -157902.72458446])\n",
      "self.b=np.float64(-0.8824743018348302), self.w=array([ 1.20872576,  0.69454123, -0.58606555,  1.22018353, 11.19354902])\n",
      "Epoch 5\n",
      "grad_b=np.float64(2711.476940278238), grad_w=array([ 10456.61814131,   7530.33630204,  11183.23474536,  67703.56966351,\n",
      "       329536.09509888])\n",
      "self.b=np.float64(-1.1536219958626541), self.w=array([  0.16306395,  -0.0584924 ,  -1.70438902,  -5.55017344,\n",
      "       -21.76006049])\n",
      "Epoch 6\n",
      "grad_b=np.float64(-5658.626403754062), grad_w=array([ -21769.33816713,  -15679.24023951,  -23530.48186898,\n",
      "       -141292.36906735, -687715.13297521])\n",
      "self.b=np.float64(-0.5877593554872479), self.w=array([ 2.33999777,  1.50943162,  0.64865917,  8.57906347, 47.01145281])\n",
      "Epoch 7\n",
      "grad_b=np.float64(11809.20225600665), grad_w=array([  45483.98448531,   32757.50633333,   48914.99217833,\n",
      "        294867.74790775, 1435218.05342216])\n",
      "self.b=np.float64(-1.768679581087913), self.w=array([ -2.20840068,  -1.76631901,  -4.24284005, -20.90771132,\n",
      "       -96.51035253])\n",
      "Epoch 8\n",
      "grad_b=np.float64(-24644.95222003416), grad_w=array([  -94869.09113564,   -68326.68493035,  -102273.37901955,\n",
      "        -615368.35408153, -2995197.18665731])\n",
      "self.b=np.float64(0.695815640915503), self.w=array([  7.27850843,   5.06634948,   5.98449785,  40.62912408,\n",
      "       203.00936613])\n",
      "Epoch 9\n",
      "grad_b=np.float64(51432.35537617712), grad_w=array([ 198038.07656851,  142629.01496568,  213246.6695867 ,\n",
      "       1284231.64856528, 6250774.03039676])\n",
      "self.b=np.float64(-4.447419896702209), self.w=array([ -12.52529923,   -9.19655202,  -15.34016911,  -87.79404077,\n",
      "       -422.06803691])\n",
      "Epoch 10\n",
      "grad_b=np.float64(-107335.7418080719), grad_w=array([  -413239.01978772,   -297621.02964726,   -445221.58527542,\n",
      "        -2680102.62288856, -13044930.60314365])\n",
      "self.b=np.float64(6.286154284104981), self.w=array([ 28.79860275,  20.56555095,  29.18198942, 180.21622152,\n",
      "       882.42502341])\n"
     ]
    }
   ],
   "source": [
    "custom_lr2 = lr.CustomLinearRegression()\n",
    "custom_lr2.train(X_train, y_train)"
   ]
  },
  {
   "cell_type": "code",
   "execution_count": 48,
   "metadata": {},
   "outputs": [
    {
     "name": "stdout",
     "output_type": "stream",
     "text": [
      "Epoch 1/100: Loss = 1661.597044\n",
      "Epoch 2/100: Loss = 1526.297316\n",
      "Epoch 3/100: Loss = 1403.741929\n",
      "Epoch 4/100: Loss = 1292.516261\n",
      "Epoch 5/100: Loss = 1191.396975\n",
      "Epoch 6/100: Loss = 1099.321485\n",
      "Epoch 7/100: Loss = 1015.362812\n",
      "Epoch 8/100: Loss = 938.708841\n",
      "Epoch 9/100: Loss = 868.645160\n",
      "Epoch 10/100: Loss = 804.540816\n",
      "Epoch 11/100: Loss = 745.836465\n",
      "Epoch 12/100: Loss = 692.034476\n",
      "Epoch 13/100: Loss = 642.690639\n",
      "Epoch 14/100: Loss = 597.407189\n",
      "Epoch 15/100: Loss = 555.826918\n",
      "Epoch 16/100: Loss = 517.628181\n",
      "Epoch 17/100: Loss = 482.520648\n",
      "Epoch 18/100: Loss = 450.241667\n",
      "Epoch 19/100: Loss = 420.553143\n",
      "Epoch 20/100: Loss = 393.238845\n",
      "Epoch 21/100: Loss = 368.102073\n",
      "Epoch 22/100: Loss = 344.963627\n",
      "Epoch 23/100: Loss = 323.660032\n",
      "Epoch 24/100: Loss = 304.041981\n",
      "Epoch 25/100: Loss = 285.972960\n",
      "Epoch 26/100: Loss = 269.328037\n",
      "Epoch 27/100: Loss = 253.992782\n",
      "Epoch 28/100: Loss = 239.862303\n",
      "Epoch 29/100: Loss = 226.840392\n",
      "Epoch 30/100: Loss = 214.838754\n",
      "Epoch 31/100: Loss = 203.776310\n",
      "Epoch 32/100: Loss = 193.578579\n",
      "Epoch 33/100: Loss = 184.177110\n",
      "Epoch 34/100: Loss = 175.508973\n",
      "Epoch 35/100: Loss = 167.516296\n",
      "Epoch 36/100: Loss = 160.145840\n",
      "Epoch 37/100: Loss = 153.348624\n",
      "Epoch 38/100: Loss = 147.079567\n",
      "Epoch 39/100: Loss = 141.297173\n",
      "Epoch 40/100: Loss = 135.963240\n",
      "Epoch 41/100: Loss = 131.042594\n",
      "Epoch 42/100: Loss = 126.502840\n",
      "Epoch 43/100: Loss = 122.314147\n",
      "Epoch 44/100: Loss = 118.449034\n",
      "Epoch 45/100: Loss = 114.882189\n",
      "Epoch 46/100: Loss = 111.590292\n",
      "Epoch 47/100: Loss = 108.551858\n",
      "Epoch 48/100: Loss = 105.747093\n",
      "Epoch 49/100: Loss = 103.157758\n",
      "Epoch 50/100: Loss = 100.767043\n",
      "Epoch 51/100: Loss = 98.559463\n",
      "Epoch 52/100: Loss = 96.520743\n",
      "Epoch 53/100: Loss = 94.637730\n",
      "Epoch 54/100: Loss = 92.898301\n",
      "Epoch 55/100: Loss = 91.291283\n",
      "Epoch 56/100: Loss = 89.806378\n",
      "Epoch 57/100: Loss = 88.434095\n",
      "Epoch 58/100: Loss = 87.165685\n",
      "Epoch 59/100: Loss = 85.993084\n",
      "Epoch 60/100: Loss = 84.908859\n",
      "Epoch 61/100: Loss = 83.906157\n",
      "Epoch 62/100: Loss = 82.978662\n",
      "Epoch 63/100: Loss = 82.120552\n",
      "Epoch 64/100: Loss = 81.326458\n",
      "Epoch 65/100: Loss = 80.591433\n",
      "Epoch 66/100: Loss = 79.910913\n",
      "Epoch 67/100: Loss = 79.280695\n",
      "Epoch 68/100: Loss = 78.696898\n",
      "Epoch 69/100: Loss = 78.155949\n",
      "Epoch 70/100: Loss = 77.654551\n",
      "Epoch 71/100: Loss = 77.189665\n",
      "Epoch 72/100: Loss = 76.758488\n",
      "Epoch 73/100: Loss = 76.358436\n",
      "Epoch 74/100: Loss = 75.987126\n",
      "Epoch 75/100: Loss = 75.642361\n",
      "Epoch 76/100: Loss = 75.322114\n",
      "Epoch 77/100: Loss = 75.024517\n",
      "Epoch 78/100: Loss = 74.747846\n",
      "Epoch 79/100: Loss = 74.490511\n",
      "Epoch 80/100: Loss = 74.251047\n",
      "Epoch 81/100: Loss = 74.028101\n",
      "Epoch 82/100: Loss = 73.820426\n",
      "Epoch 83/100: Loss = 73.626871\n",
      "Epoch 84/100: Loss = 73.446375\n",
      "Epoch 85/100: Loss = 73.277958\n",
      "Epoch 86/100: Loss = 73.120717\n",
      "Epoch 87/100: Loss = 72.973817\n",
      "Epoch 88/100: Loss = 72.836491\n",
      "Epoch 89/100: Loss = 72.708027\n",
      "Epoch 90/100: Loss = 72.587771\n",
      "Epoch 91/100: Loss = 72.475119\n",
      "Epoch 92/100: Loss = 72.369511\n",
      "Epoch 93/100: Loss = 72.270433\n",
      "Epoch 94/100: Loss = 72.177409\n",
      "Epoch 95/100: Loss = 72.090001\n",
      "Epoch 96/100: Loss = 72.007801\n",
      "Epoch 97/100: Loss = 71.930437\n",
      "Epoch 98/100: Loss = 71.857563\n",
      "Epoch 99/100: Loss = 71.788858\n",
      "Epoch 100/100: Loss = 71.724027\n"
     ]
    },
    {
     "data": {
      "text/plain": [
       "np.float64(6.7737251075704386)"
      ]
     },
     "execution_count": 48,
     "metadata": {},
     "output_type": "execute_result"
    }
   ],
   "source": [
    "import numpy as np\n",
    "import pandas as pd\n",
    "\n",
    "\n",
    "class CustomLinearRegression:\n",
    "    def __init__(self, alpha=0.001, n_iter=100, scale_features=True):\n",
    "        self.alpha = alpha\n",
    "        self.n_iter = n_iter\n",
    "        self.scale_features = scale_features\n",
    "        self.w = None\n",
    "        self.b = np.random.random()\n",
    "\n",
    "    def _feature_scaling(self, X):\n",
    "        \"\"\"Scale features to have zero mean and unit variance.\"\"\"\n",
    "        self.feature_means = np.mean(X, axis=0)\n",
    "        self.feature_stds = np.std(X, axis=0)\n",
    "        # Prevent division by zero for constant features\n",
    "        self.feature_stds[self.feature_stds == 0] = 1.0\n",
    "        return (X - self.feature_means) / self.feature_stds\n",
    "\n",
    "    def train(self, X, y):\n",
    "        \"\"\"Train the linear regression model using gradient descent.\"\"\"\n",
    "        # Ensure input is numpy array\n",
    "        if isinstance(X, (pd.DataFrame, pd.Series)):\n",
    "            X = X.to_numpy()\n",
    "        elif not isinstance(X, np.ndarray):\n",
    "            raise ValueError(\"X must be a numpy array or pandas DataFrame\")\n",
    "\n",
    "        if isinstance(y, (pd.DataFrame, pd.Series)):\n",
    "            y = y.to_numpy()\n",
    "        elif not isinstance(y, np.ndarray):\n",
    "            raise ValueError(\"y must be a numpy array or pandas DataFrame\")\n",
    "\n",
    "        # Feature scaling\n",
    "        scaled = False\n",
    "        if self.scale_features:\n",
    "            X = self._feature_scaling(X)\n",
    "            scaled = True\n",
    "\n",
    "        self.n_rec, self.n_features = X.shape\n",
    "\n",
    "        # Initialize weights\n",
    "        self.w = np.random.random(self.n_features)  \n",
    "\n",
    "        for i in range(self.n_iter):\n",
    "            y_hat = self.predict(X, scaled=scaled)  \n",
    "            diff = y - y_hat\n",
    "            loss = self.loss_mse(y, y_hat)\n",
    "\n",
    "            # Gradient calculation\n",
    "            grad_w = -(2 / self.n_rec) * np.dot(X.T, diff)\n",
    "            grad_b = -(2 / self.n_rec) * np.sum(diff)\n",
    "\n",
    "            self.w = self.w - self.alpha * grad_w\n",
    "            self.b = self.b - self.alpha * grad_b\n",
    "\n",
    "            # if i % 10 == 0 or i == self.n_iter - 1:\n",
    "            print(f\"Epoch {i + 1}/{self.n_iter}: Loss = {loss:.6f}\")\n",
    "\n",
    "    def predict(self, X, scaled=False):\n",
    "        \"\"\"Predict values using the trained model.\"\"\"\n",
    "        if isinstance(X, (pd.DataFrame, pd.Series)):\n",
    "            X = X.to_numpy()\n",
    "        elif not isinstance(X, np.ndarray):\n",
    "            raise ValueError(\"X must be a numpy array or pandas DataFrame\")\n",
    "\n",
    "        # Scale features if scaling is enabled\n",
    "        if self.scale_features and not scaled:\n",
    "            X = (X - self.feature_means) / self.feature_stds\n",
    "\n",
    "        return np.dot(X, self.w) + self.b\n",
    "\n",
    "    def loss_mse(self, y, y_hat):\n",
    "        \"\"\"Calculate Mean Squared Error.\"\"\"\n",
    "        return np.mean((y - y_hat) ** 2)\n",
    "\n",
    "\n",
    "reg_model = CustomLinearRegression(alpha=0.02, n_iter=100)\n",
    "reg_model.train(X_train, y_train)\n",
    "preds = reg_model.predict(X_test)\n",
    "root_mean_squared_error(y_test, preds)"
   ]
  }
 ],
 "metadata": {
  "kernelspec": {
   "display_name": "virtual",
   "language": "python",
   "name": "python3"
  },
  "language_info": {
   "codemirror_mode": {
    "name": "ipython",
    "version": 3
   },
   "file_extension": ".py",
   "mimetype": "text/x-python",
   "name": "python",
   "nbconvert_exporter": "python",
   "pygments_lexer": "ipython3",
   "version": "3.12.2"
  }
 },
 "nbformat": 4,
 "nbformat_minor": 2
}
