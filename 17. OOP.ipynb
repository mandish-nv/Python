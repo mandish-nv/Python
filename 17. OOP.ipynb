{
 "cells": [
  {
   "cell_type": "code",
   "execution_count": null,
   "metadata": {},
   "outputs": [],
   "source": [
    "class Human:\n",
    "  #constructor\n",
    "  def __init__(self, age):\n",
    "    self.age = age \n",
    "    \n",
    "  #display when object is called\n",
    "  #dunder method\n",
    "  def __repr__(self) -> str:\n",
    "    return f\"Human with age {self.age}\"\n",
    "  \n",
    "  def other_method(self):\n",
    "    print(f'Value of age is {self.age}')\n",
    "  \n",
    "  def another_method(self):\n",
    "    print('Before calling other method')\n",
    "    self.other_method()\n",
    "    print('After calling other method')\n",
    "    \n",
    "human1 = Human(10)\n",
    "human2 = Human(20)"
   ]
  },
  {
   "cell_type": "code",
   "execution_count": 11,
   "metadata": {},
   "outputs": [
    {
     "name": "stdout",
     "output_type": "stream",
     "text": [
      "Value of age is 10\n"
     ]
    }
   ],
   "source": [
    "human1.other_method()"
   ]
  },
  {
   "cell_type": "code",
   "execution_count": 12,
   "metadata": {},
   "outputs": [
    {
     "name": "stdout",
     "output_type": "stream",
     "text": [
      "Value of age is 20\n"
     ]
    }
   ],
   "source": [
    "human2.other_method()"
   ]
  },
  {
   "cell_type": "code",
   "execution_count": 13,
   "metadata": {},
   "outputs": [
    {
     "name": "stdout",
     "output_type": "stream",
     "text": [
      "Before calling other method\n",
      "Value of age is 10\n",
      "After calling other method\n"
     ]
    }
   ],
   "source": [
    "human1.another_method()"
   ]
  },
  {
   "cell_type": "code",
   "execution_count": 15,
   "metadata": {},
   "outputs": [
    {
     "name": "stdout",
     "output_type": "stream",
     "text": [
      "Human with age 10\n"
     ]
    }
   ],
   "source": [
    "print(human1)"
   ]
  },
  {
   "cell_type": "markdown",
   "metadata": {},
   "source": [
    "### `Inheritance`\n",
    "- Single Inheritance\n",
    "- Multiplevel Inheritance\n",
    "- Multiple Inheritance\n",
    "- Hierarchical Inheritance"
   ]
  },
  {
   "cell_type": "code",
   "execution_count": null,
   "metadata": {},
   "outputs": [
    {
     "name": "stdout",
     "output_type": "stream",
     "text": [
      "20\n"
     ]
    }
   ],
   "source": [
    "# single inheritance\n",
    "class Parent:\n",
    "  def __init__(self, age):\n",
    "    self.age = age\n",
    "    \n",
    "class Child(Parent):\n",
    "  def __init__(self, name, age):\n",
    "    # super().__init__(age)\n",
    "    Parent.__init__(self, age) #for multiple inheritance\n",
    "    self.name = name\n",
    "    \n",
    "child = Child('abc', 20)\n",
    "print(child.age)"
   ]
  },
  {
   "cell_type": "code",
   "execution_count": 29,
   "metadata": {},
   "outputs": [
    {
     "data": {
      "text/plain": [
       "'abcd'"
      ]
     },
     "execution_count": 29,
     "metadata": {},
     "output_type": "execute_result"
    }
   ],
   "source": [
    "# multilevel inheritance\n",
    "class GrandFather:\n",
    "  def __init__(self, name):\n",
    "    self.name = name\n",
    "\n",
    "class Father(GrandFather):\n",
    "  def __init__(self, name):\n",
    "    super().__init__(name)\n",
    "\n",
    "class Child(Father):\n",
    "  def __init__(self, name):\n",
    "    super().__init__(name)\n",
    "    \n",
    "child = Child('abcd')\n",
    "child.name\n"
   ]
  },
  {
   "cell_type": "code",
   "execution_count": 31,
   "metadata": {},
   "outputs": [
    {
     "data": {
      "text/plain": [
       "'b'"
      ]
     },
     "execution_count": 31,
     "metadata": {},
     "output_type": "execute_result"
    }
   ],
   "source": [
    "# multiple inheritance\n",
    "class Father:\n",
    "  def __init__(self, father_name):\n",
    "    self.father_name = father_name\n",
    "    \n",
    "class Mother:\n",
    "  def __init__(self, mother):\n",
    "    self.mother = mother\n",
    "    \n",
    "class Child(Father, Mother):\n",
    "  def __init__(self, child_name, father_name, mother_name):\n",
    "    Father.__init__(self, father_name)\n",
    "    Mother.__init__(self, mother_name)\n",
    "    self.child_name = child_name\n",
    "    \n",
    "child = Child('a', 'b', 'c')\n",
    "child.father_name"
   ]
  }
 ],
 "metadata": {
  "kernelspec": {
   "display_name": "virtual",
   "language": "python",
   "name": "python3"
  },
  "language_info": {
   "codemirror_mode": {
    "name": "ipython",
    "version": 3
   },
   "file_extension": ".py",
   "mimetype": "text/x-python",
   "name": "python",
   "nbconvert_exporter": "python",
   "pygments_lexer": "ipython3",
   "version": "3.12.2"
  }
 },
 "nbformat": 4,
 "nbformat_minor": 2
}
