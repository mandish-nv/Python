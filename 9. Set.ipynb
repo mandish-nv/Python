{
 "cells": [
  {
   "cell_type": "code",
   "execution_count": 1,
   "metadata": {},
   "outputs": [
    {
     "name": "stdout",
     "output_type": "stream",
     "text": [
      "set() <class 'set'>\n"
     ]
    }
   ],
   "source": [
    "s1 = set()\n",
    "print (s1, type(s1))"
   ]
  },
  {
   "cell_type": "code",
   "execution_count": 2,
   "metadata": {},
   "outputs": [
    {
     "name": "stdout",
     "output_type": "stream",
     "text": [
      "{1, 2, 3, 4, 5} <class 'set'>\n"
     ]
    }
   ],
   "source": [
    "s2 = {1, 2, 3, 4, 5}\n",
    "print (s2, type(s2))"
   ]
  },
  {
   "cell_type": "code",
   "execution_count": null,
   "metadata": {},
   "outputs": [
    {
     "name": "stdout",
     "output_type": "stream",
     "text": [
      "{1, 2, 3, 4, 5, 6} <class 'set'>\n"
     ]
    }
   ],
   "source": [
    "s2 = {1, 2, 3, 4, 5, 1, 2, 3, 4, 5, 6}\n",
    "print (s2, type(s2))\n",
    "#set consists of only unique elements"
   ]
  },
  {
   "cell_type": "code",
   "execution_count": 4,
   "metadata": {},
   "outputs": [
    {
     "name": "stdout",
     "output_type": "stream",
     "text": [
      "Before:  set()\n",
      "After:  {100}\n"
     ]
    }
   ],
   "source": [
    "print(\"Before: \", s1)\n",
    "s1.add(100)\n",
    "print(\"After: \", s1)"
   ]
  },
  {
   "cell_type": "code",
   "execution_count": null,
   "metadata": {},
   "outputs": [
    {
     "name": "stdout",
     "output_type": "stream",
     "text": [
      "Before:  {2, 3, 4, 5, 6}\n",
      "popped_value = 2\n",
      "After:  {3, 4, 5, 6}\n"
     ]
    }
   ],
   "source": [
    "print(\"Before: \", s2)\n",
    "popped_value = s2.pop()\n",
    "print(f\"{popped_value = }\")\n",
    "print(\"After: \", s2)\n",
    "#data are in unordered strucutre\n",
    "#cannot use indexing"
   ]
  },
  {
   "cell_type": "code",
   "execution_count": 7,
   "metadata": {},
   "outputs": [
    {
     "name": "stdout",
     "output_type": "stream",
     "text": [
      "Before:  {3, 4, 5, 6}\n",
      "After:  {3, 4, 6}\n"
     ]
    }
   ],
   "source": [
    "print(\"Before: \", s2)\n",
    "s2.remove(5)\n",
    "print(\"After: \", s2)"
   ]
  },
  {
   "cell_type": "code",
   "execution_count": 8,
   "metadata": {},
   "outputs": [
    {
     "name": "stdout",
     "output_type": "stream",
     "text": [
      "Before:  {3, 4, 6}\n",
      "After:  {3, 4, 6}\n"
     ]
    }
   ],
   "source": [
    "print(\"Before: \", s2)\n",
    "s2.discard(5)\n",
    "print(\"After: \", s2)"
   ]
  },
  {
   "cell_type": "code",
   "execution_count": 10,
   "metadata": {},
   "outputs": [
    {
     "name": "stdout",
     "output_type": "stream",
     "text": [
      "s1 = {1, 2, 3, 4, 5}\n",
      "s2 = {4, 5, 6, 7}\n",
      "intersection_set = {4, 5}\n"
     ]
    }
   ],
   "source": [
    "s1 = {1, 2, 3, 4, 5}\n",
    "s2 = {4, 5, 6, 7}\n",
    "\n",
    "intersection_set = s1.intersection(s2)\n",
    "print(f\"{s1 = }\")\n",
    "print(f\"{s2 = }\")\n",
    "print(f\"{intersection_set = }\")\n",
    "#shift + alt + up/down -> duplicate\n",
    "#alt + mouse click -> multiple cursor\n",
    "#ctrl + d -> multiple of cursor for current cursor"
   ]
  },
  {
   "cell_type": "code",
   "execution_count": 12,
   "metadata": {},
   "outputs": [
    {
     "name": "stdout",
     "output_type": "stream",
     "text": [
      "s1 = {4, 5}\n",
      "s2 = {4, 5, 6, 7}\n",
      "intersection_set = None\n"
     ]
    }
   ],
   "source": [
    "s1 = {1, 2, 3, 4, 5}\n",
    "s2 = {4, 5, 6, 7}\n",
    "\n",
    "intersection_set = s1.intersection_update(s2)\n",
    "print(f\"{s1 = }\")\n",
    "print(f\"{s2 = }\")\n",
    "print(f\"{intersection_set = }\")"
   ]
  }
 ],
 "metadata": {
  "kernelspec": {
   "display_name": "virtual",
   "language": "python",
   "name": "python3"
  },
  "language_info": {
   "codemirror_mode": {
    "name": "ipython",
    "version": 3
   },
   "file_extension": ".py",
   "mimetype": "text/x-python",
   "name": "python",
   "nbconvert_exporter": "python",
   "pygments_lexer": "ipython3",
   "version": "3.12.2"
  }
 },
 "nbformat": 4,
 "nbformat_minor": 2
}
