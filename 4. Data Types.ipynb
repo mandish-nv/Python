{
 "cells": [
  {
   "attachments": {},
   "cell_type": "markdown",
   "metadata": {},
   "source": [
    "## `Primitive Data Types`"
   ]
  },
  {
   "attachments": {},
   "cell_type": "markdown",
   "metadata": {},
   "source": [
    "- Data Type of variable or data can be identified with syntax <br/>\n",
    "type(variable_name)<br/>\n",
    "- Single or double quotation mark or both can be used in string datatype."
   ]
  },
  {
   "attachments": {},
   "cell_type": "markdown",
   "metadata": {},
   "source": [
    "#### `1. String`"
   ]
  },
  {
   "cell_type": "code",
   "execution_count": null,
   "metadata": {},
   "outputs": [],
   "source": [
    "string_variable_1 = \"This is string variable.\"\n",
    "string_variable_2 = 'This is also string variable.'\n",
    "string_variable_3 = \"It's his book.\"\n",
    "string_variable_4 = \"It is 'his' 'book'.\"\n",
    "\n",
    "multiline_string = '''This is the example\n",
    "for multiline string. Did you\n",
    "get it?\n",
    "sdfjifgasf\n",
    "it's\n",
    "ashdgfbs\"\" \"\"\n",
    "sagfhbs'''\n",
    "\n",
    "print(string_variable_1, type(string_variable_1))\n",
    "print(string_variable_2, type(string_variable_2))\n",
    "print(string_variable_3, type(string_variable_3))\n",
    "print(multiline_string, type(multiline_string))"
   ]
  },
  {
   "cell_type": "code",
   "execution_count": null,
   "metadata": {},
   "outputs": [],
   "source": [
    "# determine number of characters in the string including white spaces\n",
    "text1 = 'NCCS '\n",
    "text2 = \"is college\"\n",
    "# text1, text1 = 'NCCS', \"is college\"\n",
    "length =  len(text1)\n",
    "print(\"length of string is \", length)\n"
   ]
  },
  {
   "cell_type": "code",
   "execution_count": null,
   "metadata": {},
   "outputs": [],
   "source": [
    "a = 5\n",
    "print('a before ', a, type(a))\n",
    "a = \" has some value\"\n",
    "print('a after', a, type(a))"
   ]
  },
  {
   "cell_type": "code",
   "execution_count": null,
   "metadata": {},
   "outputs": [],
   "source": [
    "b = 15\n",
    "b += 0.1\n",
    "print(b, type(b))"
   ]
  },
  {
   "attachments": {},
   "cell_type": "markdown",
   "metadata": {},
   "source": [
    "#### &emsp;`String Formating`"
   ]
  },
  {
   "attachments": {},
   "cell_type": "markdown",
   "metadata": {},
   "source": [
    "##### &emsp;`Formating with '%' operator`\n",
    "- `%s` -- injects strings\n",
    "- `%d` -- injects integers\n",
    "- `%b` -- injects binary format.\n",
    "- `%f` -- injects floating-point number\n",
    "&emsp;&emsp; <br/>Precison of floating-point number can be handled with format `%a.bf` where `a` represents minimum number of digits to be present in string and `b` represents the number of digits to be included that appears after the decimal.\n",
    "```python\n",
    "    # Examples \n",
    "    txt = 'Number is %d.' % 2 \n",
    "    print(txt)\n",
    "\n",
    "    txt2 = 'This is %s sentence. The first sentence is: <%s>.' %('second', txt)\n",
    "    print(txt2)\n",
    "```"
   ]
  },
  {
   "cell_type": "code",
   "execution_count": null,
   "metadata": {},
   "outputs": [],
   "source": [
    "var1 = \"He is a %s\"%'five'\n",
    "print(var1)"
   ]
  },
  {
   "attachments": {},
   "cell_type": "markdown",
   "metadata": {},
   "source": [
    "##### &emsp;`Formating with 'format()' method.`\n",
    "```python\n",
    "    # Syntax\n",
    "    'Formating string with {} method'.format('format()')\n",
    "```\n",
    "\n",
    "```python\n",
    "    # Example\n",
    "    txt = 'Number is {}'.format(2.0032425)\n",
    "    print(txt)\n",
    "\n",
    "    # Index based insertion\n",
    "    txt = '{1} is {0}'.format('unique', 'Number')\n",
    "    print(txt)\n",
    "\n",
    "    # Keyword based insertion\n",
    "    txt = '{} is {}'.format(a='Number', b='')\n",
    "```"
   ]
  },
  {
   "cell_type": "code",
   "execution_count": null,
   "metadata": {},
   "outputs": [],
   "source": [
    "a = 'this is a sentence {}'.format('abc')\n",
    "a"
   ]
  },
  {
   "cell_type": "code",
   "execution_count": null,
   "metadata": {},
   "outputs": [],
   "source": [
    "txt = \"The value is {}\".format('ooooo')\n",
    "print(txt)"
   ]
  },
  {
   "cell_type": "code",
   "execution_count": null,
   "metadata": {},
   "outputs": [],
   "source": [
    "# Formating with `format()` string method.\n",
    "txt = 'Number is {} - {}'.format('jggasjdkfba', 'nccs')\n",
    "print(txt)"
   ]
  },
  {
   "cell_type": "code",
   "execution_count": null,
   "metadata": {},
   "outputs": [],
   "source": [
    "# Formating with `format()` string method.\n",
    "txt = 'Number is {2} - {0}'.format('jggasjdkfba', 'nccs', 5)\n",
    "print(txt)"
   ]
  },
  {
   "cell_type": "code",
   "execution_count": null,
   "metadata": {},
   "outputs": [],
   "source": [
    "# Formating with `format()` string method.\n",
    "txt = 'Number is {val} - {txt}'.format(txt='jggasjdkfba', name='nccs', val=5)\n",
    "print(txt)"
   ]
  },
  {
   "attachments": {},
   "cell_type": "markdown",
   "metadata": {},
   "source": [
    "##### &emsp;`Formating woth f-string`\n",
    "```python\n",
    "    # Syntax\n",
    "    txt = 'f-string'\n",
    "    f'Formating string with {txt}'\n",
    "```"
   ]
  },
  {
   "cell_type": "code",
   "execution_count": null,
   "metadata": {},
   "outputs": [],
   "source": [
    "age = 10\n",
    "txt = f'He is {age} years old'\n",
    "print(txt)"
   ]
  },
  {
   "attachments": {},
   "cell_type": "markdown",
   "metadata": {},
   "source": [
    "- `String Methods`<br/>\n",
    "len(), upper(), lower(), title(), swapcase(), capitalize(), endswith(), startswith(), strip(), split(), replace()"
   ]
  },
  {
   "cell_type": "code",
   "execution_count": null,
   "metadata": {},
   "outputs": [],
   "source": [
    "tst = \"NCCS is in Kathmandu.\"\n",
    "len(tst)"
   ]
  },
  {
   "cell_type": "code",
   "execution_count": null,
   "metadata": {},
   "outputs": [],
   "source": [
    "tst.upper()"
   ]
  },
  {
   "cell_type": "code",
   "execution_count": null,
   "metadata": {},
   "outputs": [],
   "source": [
    "tst.lower()"
   ]
  },
  {
   "cell_type": "code",
   "execution_count": null,
   "metadata": {},
   "outputs": [],
   "source": [
    "tst.title()"
   ]
  },
  {
   "cell_type": "code",
   "execution_count": null,
   "metadata": {},
   "outputs": [],
   "source": [
    "tst.swapcase()"
   ]
  },
  {
   "cell_type": "code",
   "execution_count": null,
   "metadata": {},
   "outputs": [],
   "source": [
    "tst.capitalize()"
   ]
  },
  {
   "cell_type": "code",
   "execution_count": null,
   "metadata": {},
   "outputs": [],
   "source": [
    "tst.startswith(\"NCC\")"
   ]
  },
  {
   "cell_type": "code",
   "execution_count": null,
   "metadata": {},
   "outputs": [],
   "source": [
    "tst.endswith(\"u.\")"
   ]
  },
  {
   "cell_type": "code",
   "execution_count": null,
   "metadata": {},
   "outputs": [],
   "source": [
    "tst.split('n')"
   ]
  },
  {
   "cell_type": "code",
   "execution_count": null,
   "metadata": {},
   "outputs": [],
   "source": [
    "tst.replace('Kath', 'hdhhs')"
   ]
  },
  {
   "cell_type": "code",
   "execution_count": null,
   "metadata": {},
   "outputs": [],
   "source": [
    "tst2 = '          This is string with whitespace.        '"
   ]
  },
  {
   "cell_type": "code",
   "execution_count": null,
   "metadata": {},
   "outputs": [],
   "source": [
    "tst2.strip()"
   ]
  },
  {
   "cell_type": "code",
   "execution_count": null,
   "metadata": {},
   "outputs": [],
   "source": [
    "tst2.lstrip()"
   ]
  },
  {
   "cell_type": "code",
   "execution_count": null,
   "metadata": {},
   "outputs": [],
   "source": [
    "tst2.rstrip()"
   ]
  },
  {
   "cell_type": "code",
   "execution_count": 7,
   "metadata": {},
   "outputs": [
    {
     "data": {
      "text/plain": [
       "False"
      ]
     },
     "execution_count": 7,
     "metadata": {},
     "output_type": "execute_result"
    }
   ],
   "source": [
    "tst3 = \"abc123@\"\n",
    "tst3.isalnum()"
   ]
  },
  {
   "cell_type": "code",
   "execution_count": null,
   "metadata": {},
   "outputs": [],
   "source": [
    "tst3"
   ]
  },
  {
   "attachments": {},
   "cell_type": "markdown",
   "metadata": {},
   "source": [
    "### `2. Integer`\n",
    "- Non-Fractional Numbers"
   ]
  },
  {
   "cell_type": "code",
   "execution_count": null,
   "metadata": {},
   "outputs": [],
   "source": [
    "integer_variable_1 = 5\n",
    "integer_variable_2 = -3000\n",
    "\n",
    "print(integer_variable_1, type(integer_variable_1))\n",
    "print(integer_variable_2)"
   ]
  },
  {
   "attachments": {},
   "cell_type": "markdown",
   "metadata": {},
   "source": [
    "### `2. Float`\n",
    "- Fractional Numbers"
   ]
  },
  {
   "cell_type": "code",
   "execution_count": null,
   "metadata": {},
   "outputs": [],
   "source": [
    "float_variable_1 = 5.0\n",
    "float_variable_2 = -100.3\n",
    "\n",
    "print(float_variable_1, type(float_variable_1))\n",
    "print(float_variable_2, type(float_variable_1))"
   ]
  },
  {
   "attachments": {},
   "cell_type": "markdown",
   "metadata": {},
   "source": [
    "### `3. Boolean` \n",
    "- Either True or False\n",
    "- Boolean False is equivalent to integer 0 or float 0, or empty list, string, tuple, set, dictionary, None."
   ]
  }
 ],
 "metadata": {
  "kernelspec": {
   "display_name": "virtual",
   "language": "python",
   "name": "python3"
  },
  "language_info": {
   "codemirror_mode": {
    "name": "ipython",
    "version": 3
   },
   "file_extension": ".py",
   "mimetype": "text/x-python",
   "name": "python",
   "nbconvert_exporter": "python",
   "pygments_lexer": "ipython3",
   "version": "3.12.2"
  },
  "orig_nbformat": 4
 },
 "nbformat": 4,
 "nbformat_minor": 2
}
