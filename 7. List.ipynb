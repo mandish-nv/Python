{
 "cells": [
  {
   "cell_type": "code",
   "execution_count": 1,
   "metadata": {},
   "outputs": [],
   "source": [
    "l1 = []"
   ]
  },
  {
   "cell_type": "code",
   "execution_count": null,
   "metadata": {},
   "outputs": [
    {
     "name": "stdout",
     "output_type": "stream",
     "text": [
      "[] <class 'list'>\n"
     ]
    }
   ],
   "source": [
    "print (l1, type(l1))"
   ]
  },
  {
   "cell_type": "code",
   "execution_count": 3,
   "metadata": {},
   "outputs": [
    {
     "name": "stdout",
     "output_type": "stream",
     "text": [
      "[] <class 'list'>\n"
     ]
    }
   ],
   "source": [
    "l2 = list()\n",
    "print (l2, type(l2))"
   ]
  },
  {
   "cell_type": "code",
   "execution_count": 4,
   "metadata": {},
   "outputs": [
    {
     "name": "stdout",
     "output_type": "stream",
     "text": [
      "[1, 2, 3, 4] <class 'list'>\n"
     ]
    }
   ],
   "source": [
    "l3 = [1, 2, 3, 4]\n",
    "print (l3, type(l3))"
   ]
  },
  {
   "cell_type": "code",
   "execution_count": 10,
   "metadata": {},
   "outputs": [
    {
     "name": "stdout",
     "output_type": "stream",
     "text": [
      "Before:  []\n",
      "After:  [1]\n"
     ]
    }
   ],
   "source": [
    "print (\"Before: \", l1)\n",
    "l1.append(1)\n",
    "print (\"After: \", l1)"
   ]
  },
  {
   "cell_type": "code",
   "execution_count": 11,
   "metadata": {},
   "outputs": [
    {
     "name": "stdout",
     "output_type": "stream",
     "text": [
      "Before:  [1]\n",
      "After:  [1, 'New value']\n"
     ]
    }
   ],
   "source": [
    "print (\"Before: \", l1)\n",
    "l1.append('New value')\n",
    "print (\"After: \", l1)"
   ]
  },
  {
   "cell_type": "code",
   "execution_count": 12,
   "metadata": {},
   "outputs": [
    {
     "name": "stdout",
     "output_type": "stream",
     "text": [
      "Before:  [1, 'New value']\n",
      "After:  [1, 'New value', [1, 2, 3, 4]]\n"
     ]
    }
   ],
   "source": [
    "print (\"Before: \", l1)\n",
    "l1.append(l3)\n",
    "print (\"After: \", l1)"
   ]
  },
  {
   "cell_type": "code",
   "execution_count": 13,
   "metadata": {},
   "outputs": [
    {
     "name": "stdout",
     "output_type": "stream",
     "text": [
      "Before:  [1, 'New value', [1, 2, 3, 4]]\n",
      "After:  [1, 'inserted', 'New value', [1, 2, 3, 4]]\n"
     ]
    }
   ],
   "source": [
    "print (\"Before: \", l1)\n",
    "l1.insert(1, 'inserted')\n",
    "print (\"After: \", l1)"
   ]
  },
  {
   "cell_type": "code",
   "execution_count": 14,
   "metadata": {},
   "outputs": [
    {
     "name": "stdout",
     "output_type": "stream",
     "text": [
      "Before:  [1, 'inserted', 'New value', [1, 2, 3, 4]]\n",
      "After:  [1, 'inserted', 'New value', [1, 2, 3, 4], 1, 2, 3, 4]\n"
     ]
    }
   ],
   "source": [
    "print (\"Before: \", l1)\n",
    "l1.extend(l3)\n",
    "print (\"After: \", l1)"
   ]
  },
  {
   "cell_type": "code",
   "execution_count": null,
   "metadata": {},
   "outputs": [
    {
     "name": "stdout",
     "output_type": "stream",
     "text": [
      "Before:  ['inserted', 'New value', [1, 2, 3, 4], 1, 2, 3]\n",
      "After:  ['inserted', 'New value', [1, 2, 3, 4], 2, 3]\n"
     ]
    }
   ],
   "source": [
    "print (\"Before: \", l1)\n",
    "l1.remove(1)\n",
    "print (\"After: \", l1)\n",
    "#removes first occurence"
   ]
  },
  {
   "cell_type": "code",
   "execution_count": 19,
   "metadata": {},
   "outputs": [
    {
     "name": "stdout",
     "output_type": "stream",
     "text": [
      "Before:  ['inserted', 'New value', [1, 2, 3, 4], 2, 3]\n",
      "Popped value 3\n",
      "After:  ['inserted', 'New value', [1, 2, 3, 4], 2]\n"
     ]
    }
   ],
   "source": [
    "print (\"Before: \", l1)\n",
    "popped_value = l1.pop()\n",
    "print(\"Popped value\", popped_value)\n",
    "print (\"After: \", l1)"
   ]
  },
  {
   "cell_type": "code",
   "execution_count": 20,
   "metadata": {},
   "outputs": [
    {
     "name": "stdout",
     "output_type": "stream",
     "text": [
      "Before:  ['inserted', 'New value', [1, 2, 3, 4], 2]\n",
      "After:  [2, [1, 2, 3, 4], 'New value', 'inserted']\n"
     ]
    }
   ],
   "source": [
    "print (\"Before: \", l1)\n",
    "l1.reverse()\n",
    "print (\"After: \", l1)"
   ]
  },
  {
   "cell_type": "code",
   "execution_count": 22,
   "metadata": {},
   "outputs": [
    {
     "name": "stdout",
     "output_type": "stream",
     "text": [
      "Before:  [2, [1, 2, 3, 4], 'New value', 'inserted']\n",
      "Index:  2\n"
     ]
    }
   ],
   "source": [
    "print (\"Before: \", l1)\n",
    "idx = l1.index(\"New value\")\n",
    "print (\"Index: \", idx)"
   ]
  },
  {
   "cell_type": "code",
   "execution_count": 24,
   "metadata": {},
   "outputs": [
    {
     "name": "stdout",
     "output_type": "stream",
     "text": [
      "Before:  [1, 6, 3, 2, 9, 0, 8]\n",
      "After:  [9, 8, 6, 3, 2, 1, 0]\n"
     ]
    }
   ],
   "source": [
    "l4 = [1, 6, 3, 2, 9, 0, 8]\n",
    "print (\"Before: \", l4)\n",
    "l4.sort(reverse = True)\n",
    "print (\"After: \", l4)"
   ]
  },
  {
   "cell_type": "code",
   "execution_count": 25,
   "metadata": {},
   "outputs": [
    {
     "name": "stdout",
     "output_type": "stream",
     "text": [
      "Before:  [2, [1, 2, 3, 4], 'New value', 'inserted']\n",
      "After:  []\n"
     ]
    }
   ],
   "source": [
    "print (\"Before: \", l1)\n",
    "l1.clear()\n",
    "print (\"After: \", l1)"
   ]
  },
  {
   "cell_type": "code",
   "execution_count": 26,
   "metadata": {},
   "outputs": [],
   "source": [
    "l1 = [1,2,3,4,5,6,7,8,9]"
   ]
  },
  {
   "cell_type": "code",
   "execution_count": 27,
   "metadata": {},
   "outputs": [
    {
     "data": {
      "text/plain": [
       "2"
      ]
     },
     "execution_count": 27,
     "metadata": {},
     "output_type": "execute_result"
    }
   ],
   "source": [
    "l1[1]"
   ]
  },
  {
   "cell_type": "code",
   "execution_count": null,
   "metadata": {},
   "outputs": [
    {
     "data": {
      "text/plain": [
       "2"
      ]
     },
     "execution_count": 28,
     "metadata": {},
     "output_type": "execute_result"
    }
   ],
   "source": [
    "#negative indexing\n",
    "l1[-8]"
   ]
  },
  {
   "cell_type": "markdown",
   "metadata": {},
   "source": [
    "### Slicing"
   ]
  },
  {
   "cell_type": "code",
   "execution_count": null,
   "metadata": {},
   "outputs": [
    {
     "data": {
      "text/plain": [
       "[1, 2, 3, 4, 5, 6, 7, 8, 9]"
      ]
     },
     "execution_count": 29,
     "metadata": {},
     "output_type": "execute_result"
    }
   ],
   "source": [
    "l1[0:9:1]\n",
    "#[start index: end index: step] -> [0, 9)"
   ]
  },
  {
   "cell_type": "code",
   "execution_count": 31,
   "metadata": {},
   "outputs": [
    {
     "data": {
      "text/plain": [
       "[3, 5]"
      ]
     },
     "execution_count": 31,
     "metadata": {},
     "output_type": "execute_result"
    }
   ],
   "source": [
    "l1[2:6:2]"
   ]
  },
  {
   "cell_type": "code",
   "execution_count": 32,
   "metadata": {},
   "outputs": [
    {
     "data": {
      "text/plain": [
       "[9, 8, 7, 6, 5, 4, 3, 2, 1]"
      ]
     },
     "execution_count": 32,
     "metadata": {},
     "output_type": "execute_result"
    }
   ],
   "source": [
    "l1[::-1]"
   ]
  },
  {
   "cell_type": "code",
   "execution_count": 33,
   "metadata": {},
   "outputs": [
    {
     "data": {
      "text/plain": [
       "[8, 7, 6, 5]"
      ]
     },
     "execution_count": 33,
     "metadata": {},
     "output_type": "execute_result"
    }
   ],
   "source": [
    "l1[-2:-6:-1]"
   ]
  }
 ],
 "metadata": {
  "kernelspec": {
   "display_name": "virtual",
   "language": "python",
   "name": "python3"
  },
  "language_info": {
   "codemirror_mode": {
    "name": "ipython",
    "version": 3
   },
   "file_extension": ".py",
   "mimetype": "text/x-python",
   "name": "python",
   "nbconvert_exporter": "python",
   "pygments_lexer": "ipython3",
   "version": "3.12.2"
  }
 },
 "nbformat": 4,
 "nbformat_minor": 2
}
