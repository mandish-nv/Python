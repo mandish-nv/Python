{
 "cells": [
  {
   "cell_type": "markdown",
   "metadata": {},
   "source": [
    "#### `Write a function named count_vowels that takes a string and returns the total number of vowels in it.`"
   ]
  },
  {
   "cell_type": "code",
   "execution_count": null,
   "metadata": {},
   "outputs": [
    {
     "name": "stdout",
     "output_type": "stream",
     "text": [
      "3\n"
     ]
    }
   ],
   "source": [
    "def count_vowels(s):\n",
    "    vowels = ['a','e','i','o','u']\n",
    "    vowelCount = 0\n",
    "    for i in s:\n",
    "        if i.lower() in vowels:\n",
    "            vowelCount += 1\n",
    "    return vowelCount\n",
    "\n",
    "# Example usage:\n",
    "print(count_vowels(\"hello world\"))"
   ]
  },
  {
   "cell_type": "markdown",
   "metadata": {},
   "source": [
    "#### `Write a function named count_vowels that takes a string and returns the number of appearance of each vowels in it.`"
   ]
  },
  {
   "cell_type": "code",
   "execution_count": 20,
   "metadata": {},
   "outputs": [
    {
     "name": "stdout",
     "output_type": "stream",
     "text": [
      "{'a': 0, 'e': 1, 'i': 0, 'o': 2, 'u': 0, 'A': 0, 'E': 0, 'I': 0, 'O': 0, 'U': 0}\n"
     ]
    }
   ],
   "source": [
    "def count_vowels(s):\n",
    "    vowels = {'a':0,'e':0,'i':0,'o':0,'u':0,\n",
    "              'A':0,'E':0,'I':0,'O':0,'U':0}\n",
    "    for i in s:\n",
    "        if i in vowels:\n",
    "            vowels[i] += 1\n",
    "    return vowels\n",
    "\n",
    "# Example usage:\n",
    "print(count_vowels(\"hello world\"))"
   ]
  },
  {
   "cell_type": "markdown",
   "metadata": {},
   "source": [
    "```Write a function to find the number of words given in the text given.\n",
    "```"
   ]
  },
  {
   "cell_type": "markdown",
   "metadata": {},
   "source": [
    "```Write a function to find the number of words in the given text.```"
   ]
  },
  {
   "cell_type": "code",
   "execution_count": 19,
   "metadata": {},
   "outputs": [
    {
     "name": "stdout",
     "output_type": "stream",
     "text": [
      "5\n"
     ]
    }
   ],
   "source": [
    "def word_count(sentence):\n",
    "  splitted_text = sentence.split()    \n",
    "  return len(splitted_text)\n",
    "\n",
    "# word = input()\n",
    "print(word_count(\"Hello my name is Mandish\"))"
   ]
  },
  {
   "cell_type": "markdown",
   "metadata": {},
   "source": [
    "```Write a function to find the largest number in the given list```"
   ]
  },
  {
   "cell_type": "code",
   "execution_count": 21,
   "metadata": {},
   "outputs": [
    {
     "name": "stdout",
     "output_type": "stream",
     "text": [
      "5\n"
     ]
    }
   ],
   "source": [
    "def largest_num(num_list):\n",
    "  largest = num_list[0]\n",
    "  for i in num_list:\n",
    "    # if i > largest:\n",
    "    #   largest = i\n",
    "    largest = max(i, largest)\n",
    "  return largest\n",
    "\n",
    "num_list = [3,2,1,5,0]\n",
    "print(largest_num(num_list))"
   ]
  },
  {
   "cell_type": "markdown",
   "metadata": {},
   "source": [
    "```Write a function to find the number of appearance of each word```"
   ]
  },
  {
   "cell_type": "code",
   "execution_count": 36,
   "metadata": {},
   "outputs": [
    {
     "name": "stdout",
     "output_type": "stream",
     "text": [
      "{'Hello': 2, 'my': 1, 'name': 1, 'is': 1, 'Mandish': 1}\n"
     ]
    }
   ],
   "source": [
    "def word_appearance(sentence:str):\n",
    "  count = dict()\n",
    "  sentence = sentence.replace('.', '')\n",
    "  splitted = sentence.split()\n",
    "  for i in splitted:\n",
    "    if i in count:\n",
    "      count[i] += 1\n",
    "    else:\n",
    "      count[i] = 1    \n",
    "      \n",
    "  return count\n",
    "\n",
    "sentence = \"Hello my name is Mandish Hello.\"\n",
    "print(word_appearance(sentence))"
   ]
  },
  {
   "cell_type": "markdown",
   "metadata": {},
   "source": [
    "```Write a function to find the longest word in the given text```"
   ]
  },
  {
   "cell_type": "code",
   "execution_count": null,
   "metadata": {},
   "outputs": [
    {
     "name": "stdout",
     "output_type": "stream",
     "text": [
      "['Mandish', 'aaaaaaa']\n"
     ]
    }
   ],
   "source": [
    "def longest_word(sentence):\n",
    "  splitted = sentence.split()\n",
    "  longest = ['']\n",
    "  for i in splitted:\n",
    "    if len(i) > len(longest[0]):\n",
    "      longest = []\n",
    "      longest.append(i)\n",
    "    elif len(i) == len(longest[0]):\n",
    "      longest.append(i)\n",
    "  return longest\n",
    "\n",
    "#or use dictionary with value\n",
    "\n",
    "sentence = \"Hello my name is Mandish aaaaaaa\"\n",
    "print(longest_word(sentence))"
   ]
  },
  {
   "cell_type": "code",
   "execution_count": 1,
   "metadata": {},
   "outputs": [
    {
     "ename": "TypeError",
     "evalue": "can only concatenate list (not \"int\") to list",
     "output_type": "error",
     "traceback": [
      "\u001b[1;31m---------------------------------------------------------------------------\u001b[0m",
      "\u001b[1;31mTypeError\u001b[0m                                 Traceback (most recent call last)",
      "Cell \u001b[1;32mIn[1], line 2\u001b[0m\n\u001b[0;32m      1\u001b[0m \u001b[38;5;28mlist\u001b[39m \u001b[38;5;241m=\u001b[39m [\u001b[38;5;241m1\u001b[39m, \u001b[38;5;241m2\u001b[39m, \u001b[38;5;241m3\u001b[39m]\n\u001b[1;32m----> 2\u001b[0m \u001b[38;5;28mlist\u001b[39m \u001b[38;5;241m=\u001b[39m \u001b[38;5;28;43mlist\u001b[39;49m\u001b[43m \u001b[49m\u001b[38;5;241;43m+\u001b[39;49m\u001b[43m \u001b[49m\u001b[38;5;241;43m1\u001b[39;49m\n",
      "\u001b[1;31mTypeError\u001b[0m: can only concatenate list (not \"int\") to list"
     ]
    }
   ],
   "source": [
    "list = [1, 2, 3]\n",
    "list = list + 1 # error\n"
   ]
  },
  {
   "cell_type": "code",
   "execution_count": 2,
   "metadata": {},
   "outputs": [
    {
     "data": {
      "text/plain": [
       "array([2, 3, 4])"
      ]
     },
     "execution_count": 2,
     "metadata": {},
     "output_type": "execute_result"
    }
   ],
   "source": [
    "import numpy as np\n",
    "np.array([1, 2, 3]) + 1 # boradcasting/ type casting"
   ]
  }
 ],
 "metadata": {
  "kernelspec": {
   "display_name": "virtual",
   "language": "python",
   "name": "python3"
  },
  "language_info": {
   "codemirror_mode": {
    "name": "ipython",
    "version": 3
   },
   "file_extension": ".py",
   "mimetype": "text/x-python",
   "name": "python",
   "nbconvert_exporter": "python",
   "pygments_lexer": "ipython3",
   "version": "3.12.2"
  }
 },
 "nbformat": 4,
 "nbformat_minor": 2
}
