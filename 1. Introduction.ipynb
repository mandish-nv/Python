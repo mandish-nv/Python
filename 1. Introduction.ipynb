{
 "cells": [
  {
   "attachments": {},
   "cell_type": "markdown",
   "metadata": {},
   "source": [
    "# Python \n",
    "* Created by Guido van Rossum \n",
    "* Released in 1991"
   ]
  },
  {
   "attachments": {},
   "cell_type": "markdown",
   "metadata": {},
   "source": [
    "## Introduction\n",
    "\n",
    "*  Python is interpreted language.\n",
    "   * It convets high level language into intermediate language rather than directly converting into lowlevel or machine language.\n",
    "   * Each statement of the program are executed one after another in runtime only.\n",
    "   * Source code is necessary to re-execute the program later.\n",
    "   * Execution of the program initiates after checking or evaluting every statements.\n",
    "\n",
    "* Simple syntax to use.\n",
    "* Uses new lines to complete a command unlike semi-colons in other programming languages.\n",
    "* Relies on indentation, using whitespace, to define scope\n",
    "* Dynamically typed language.\n",
    "* Platform Independent.\n",
    "* Great Community.\n",
    "* Free and Open Source.\n",
    "* Rich Library Support."
   ]
  },
  {
   "attachments": {},
   "cell_type": "markdown",
   "metadata": {},
   "source": [
    "## Uses\n",
    "\n",
    "* Web Development (Backend + Frontend)\n",
    "* Software Development\n",
    "* System Scripting\n",
    "* Artificial Intelligence/ Machine Learning/ Deep Learning\n",
    "* Rapid prototyping"
   ]
  },
  {
   "attachments": {},
   "cell_type": "markdown",
   "metadata": {},
   "source": [
    "## Python 2 VS Python 3\n",
    "*  The main difference between Python 2 and Python 3 is their syntax. <br/>Python 3 has introduced many new ways to write code, such as print function. Python 3 brought many changes to the language, both large and small. <br/>For example, with Python 2, division between integers always returned another integer, while with Python 3, the same formula will return the actual value as a float.\n",
    "* syntax of Python 2 -> print \"Python2\"\n",
    "* syntax of Python 3 -> print(\"Python3\")"
   ]
  }
 ],
 "metadata": {
  "kernelspec": {
   "display_name": "workshop",
   "language": "python",
   "name": "python3"
  },
  "language_info": {
   "name": "python",
   "version": "3.11.3"
  },
  "orig_nbformat": 4
 },
 "nbformat": 4,
 "nbformat_minor": 2
}
