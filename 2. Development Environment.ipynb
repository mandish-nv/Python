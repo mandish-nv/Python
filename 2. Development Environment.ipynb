{
 "cells": [
  {
   "attachments": {},
   "cell_type": "markdown",
   "metadata": {},
   "source": [
    "## 🐍 `Anaconda`\n",
    "* Development Environment.\n",
    "* Download [here](https://www.anaconda.com/download/).\n",
    "* Install it locally.\n",
    "## 💻 `Google Colab ` -> [here](https://colab.research.google.com/)"
   ]
  },
  {
   "attachments": {},
   "cell_type": "markdown",
   "metadata": {},
   "source": [
    "### ⛏ File Extension of Jupyter Notebook is *`'.ipynb'`*."
   ]
  },
  {
   "attachments": {},
   "cell_type": "markdown",
   "metadata": {},
   "source": [
    "### ⛏ Cell in each notebook file is either ***`code cell`*** or ***`markdown cell`***.<br/>\n",
    "    * Code cell - used for writing executable python program. <br/>\n",
    "    * Markdown cell - used for writing comments with some style."
   ]
  },
  {
   "attachments": {},
   "cell_type": "markdown",
   "metadata": {},
   "source": [
    "### ⛏ Cell Executioin with *shift+Enter* keys."
   ]
  },
  {
   "cell_type": "code",
   "execution_count": null,
   "metadata": {},
   "outputs": [],
   "source": []
  }
 ],
 "metadata": {
  "kernelspec": {
   "display_name": "Python 3",
   "language": "python",
   "name": "python3"
  },
  "language_info": {
   "codemirror_mode": {
    "name": "ipython",
    "version": 3
   },
   "file_extension": ".py",
   "mimetype": "text/x-python",
   "name": "python",
   "nbconvert_exporter": "python",
   "pygments_lexer": "ipython3",
   "version": "3.12.7"
  },
  "orig_nbformat": 4
 },
 "nbformat": 4,
 "nbformat_minor": 2
}
