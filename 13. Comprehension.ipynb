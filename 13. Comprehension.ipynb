{
 "cells": [
  {
   "cell_type": "code",
   "execution_count": 7,
   "metadata": {},
   "outputs": [
    {
     "data": {
      "text/plain": [
       "True"
      ]
     },
     "execution_count": 7,
     "metadata": {},
     "output_type": "execute_result"
    }
   ],
   "source": [
    "isinstance(1, (int, float))"
   ]
  },
  {
   "cell_type": "code",
   "execution_count": 8,
   "metadata": {},
   "outputs": [
    {
     "name": "stdout",
     "output_type": "stream",
     "text": [
      "squared = [1, 4, 9, 16, 'a']\n"
     ]
    }
   ],
   "source": [
    "\"\"\"\n",
    "crete a new list with each element squared of given list.\n",
    "\"\"\"\n",
    "l = [1, 2, 3, 4, 'a']\n",
    "\n",
    "squared = []\n",
    "for ele in l:\n",
    "  if isinstance(ele, (int, float)):\n",
    "    squared.append(ele ** 2)\n",
    "  else:\n",
    "    squared.append(ele)\n",
    "\n",
    "print (f\"{squared = }\")  "
   ]
  },
  {
   "cell_type": "code",
   "execution_count": null,
   "metadata": {},
   "outputs": [
    {
     "ename": "TypeError",
     "evalue": "unsupported operand type(s) for ** or pow(): 'str' and 'int'",
     "output_type": "error",
     "traceback": [
      "\u001b[1;31m---------------------------------------------------------------------------\u001b[0m",
      "\u001b[1;31mTypeError\u001b[0m                                 Traceback (most recent call last)",
      "Cell \u001b[1;32mIn[12], line 1\u001b[0m\n\u001b[1;32m----> 1\u001b[0m [\u001b[43mele\u001b[49m\u001b[38;5;241;43m*\u001b[39;49m\u001b[38;5;241;43m*\u001b[39;49m\u001b[38;5;241;43m2\u001b[39;49m \u001b[38;5;28;01mfor\u001b[39;00m ele \u001b[38;5;129;01min\u001b[39;00m l]\n",
      "\u001b[1;31mTypeError\u001b[0m: unsupported operand type(s) for ** or pow(): 'str' and 'int'"
     ]
    }
   ],
   "source": [
    "#Comprehension\n",
    "[ele**2 for ele in l]\n"
   ]
  },
  {
   "cell_type": "code",
   "execution_count": null,
   "metadata": {},
   "outputs": [
    {
     "data": {
      "text/plain": [
       "[1, 4, 9, 16]"
      ]
     },
     "execution_count": 10,
     "metadata": {},
     "output_type": "execute_result"
    }
   ],
   "source": [
    "[ele**2 for ele in l if isinstance(ele, (int, float))]\n",
    "#if matra bhaye right side"
   ]
  },
  {
   "cell_type": "code",
   "execution_count": null,
   "metadata": {},
   "outputs": [
    {
     "data": {
      "text/plain": [
       "[1, 4, 9, 16, 'a']"
      ]
     },
     "execution_count": 11,
     "metadata": {},
     "output_type": "execute_result"
    }
   ],
   "source": [
    "[ele**2 if isinstance(ele, (int, float)) else ele for ele in l]\n",
    "#if else cha bhaye left side"
   ]
  },
  {
   "cell_type": "markdown",
   "metadata": {},
   "source": [
    "### Dictionary Comprehension"
   ]
  },
  {
   "cell_type": "code",
   "execution_count": 16,
   "metadata": {},
   "outputs": [
    {
     "name": "stdout",
     "output_type": "stream",
     "text": [
      "{'a': 201, 'b': 102, 'c': 203, 'd': 104, 'e': 205}\n"
     ]
    }
   ],
   "source": [
    "d = {'a':1, 'b':2, 'c':3, 'd':4, 'e':5}\n",
    "output = {}\n",
    "\n",
    "for k,v in d.items():\n",
    "  if v%2 ==0:\n",
    "    output[k] = v + 100\n",
    "  else:\n",
    "    output[k] = v + 200\n",
    "  \n",
    "print(output)"
   ]
  },
  {
   "cell_type": "code",
   "execution_count": 15,
   "metadata": {},
   "outputs": [
    {
     "data": {
      "text/plain": [
       "{'a': 101, 'b': 102, 'c': 103, 'd': 104, 'e': 105}"
      ]
     },
     "execution_count": 15,
     "metadata": {},
     "output_type": "execute_result"
    }
   ],
   "source": [
    "{k:v+100 for k,v in d.items()}"
   ]
  },
  {
   "cell_type": "code",
   "execution_count": 19,
   "metadata": {},
   "outputs": [
    {
     "data": {
      "text/plain": [
       "{'a': 201, 'b': 102, 'c': 203, 'd': 104, 'e': 205}"
      ]
     },
     "execution_count": 19,
     "metadata": {},
     "output_type": "execute_result"
    }
   ],
   "source": [
    "{k: (v+100 if v%2 ==0 else v+200) \n",
    " for k,v in d.items()}"
   ]
  },
  {
   "cell_type": "code",
   "execution_count": 29,
   "metadata": {},
   "outputs": [
    {
     "data": {
      "text/plain": [
       "[1001, 12, 1003, 14, 1005]"
      ]
     },
     "execution_count": 29,
     "metadata": {},
     "output_type": "execute_result"
    }
   ],
   "source": [
    "\"\"\"\n",
    "Create a new list from the given list using following conditions\n",
    "1. if element is in odd index, add 10\n",
    "2. if element is in even index, add 1000\n",
    "\"\"\"\n",
    "l1 = [1, 2, 3, 4, 5]\n",
    "[val+10 if l1.index(val)%2!=0 else val+1000\n",
    "  for val in l1]"
   ]
  }
 ],
 "metadata": {
  "kernelspec": {
   "display_name": "virtual",
   "language": "python",
   "name": "python3"
  },
  "language_info": {
   "codemirror_mode": {
    "name": "ipython",
    "version": 3
   },
   "file_extension": ".py",
   "mimetype": "text/x-python",
   "name": "python",
   "nbconvert_exporter": "python",
   "pygments_lexer": "ipython3",
   "version": "3.12.2"
  }
 },
 "nbformat": 4,
 "nbformat_minor": 2
}
