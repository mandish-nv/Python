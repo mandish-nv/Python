{
 "cells": [
  {
   "cell_type": "code",
   "execution_count": 12,
   "metadata": {},
   "outputs": [
    {
     "name": "stdout",
     "output_type": "stream",
     "text": [
      "{} <class 'dict'>\n"
     ]
    }
   ],
   "source": [
    "d1 = {}\n",
    "print (d1, type(d1))"
   ]
  },
  {
   "cell_type": "code",
   "execution_count": null,
   "metadata": {},
   "outputs": [],
   "source": [
    "d2 = dict()\n",
    "print (d2, type(d2))"
   ]
  },
  {
   "cell_type": "code",
   "execution_count": 20,
   "metadata": {},
   "outputs": [
    {
     "name": "stdout",
     "output_type": "stream",
     "text": [
      "{'a': 1, 'b': [1, 2], 'c': 1.1} <class 'dict'>\n"
     ]
    }
   ],
   "source": [
    "d3 = {'a': 1,\n",
    "      'b': [1,2],\n",
    "      'c': 1.1\n",
    "      }\n",
    "print(d3, type(d3))"
   ]
  },
  {
   "cell_type": "code",
   "execution_count": null,
   "metadata": {},
   "outputs": [],
   "source": [
    "#immutable -> int, float, boolean, tuple, string (can be used as key)\n",
    "#mutable -> list, set, dictionary"
   ]
  },
  {
   "cell_type": "code",
   "execution_count": 13,
   "metadata": {},
   "outputs": [
    {
     "data": {
      "text/plain": [
       "{'first_key': 'first_value'}"
      ]
     },
     "execution_count": 13,
     "metadata": {},
     "output_type": "execute_result"
    }
   ],
   "source": [
    "d1 ['first_key']  = 'first_value'\n",
    "d1"
   ]
  },
  {
   "cell_type": "code",
   "execution_count": null,
   "metadata": {},
   "outputs": [],
   "source": [
    "print (d1.get('first_key', 'DEFAULT'))\n",
    "#???"
   ]
  },
  {
   "cell_type": "code",
   "execution_count": 15,
   "metadata": {},
   "outputs": [
    {
     "data": {
      "text/plain": [
       "{'first_key': []}"
      ]
     },
     "execution_count": 15,
     "metadata": {},
     "output_type": "execute_result"
    }
   ],
   "source": [
    "d1 ['first_key'] =[]\n",
    "d1"
   ]
  },
  {
   "cell_type": "code",
   "execution_count": 16,
   "metadata": {},
   "outputs": [
    {
     "data": {
      "text/plain": [
       "[1]"
      ]
     },
     "execution_count": 16,
     "metadata": {},
     "output_type": "execute_result"
    }
   ],
   "source": [
    "d1['first_key'].append(1)\n",
    "d1['first_key']"
   ]
  },
  {
   "cell_type": "code",
   "execution_count": 17,
   "metadata": {},
   "outputs": [
    {
     "data": {
      "text/plain": [
       "{'first_key': [1]}"
      ]
     },
     "execution_count": 17,
     "metadata": {},
     "output_type": "execute_result"
    }
   ],
   "source": [
    "d1"
   ]
  },
  {
   "cell_type": "code",
   "execution_count": 18,
   "metadata": {},
   "outputs": [],
   "source": [
    "d1 = {'a':1}\n",
    "d2 = {'b':2}\n",
    "d1.update(d2)"
   ]
  },
  {
   "cell_type": "code",
   "execution_count": 19,
   "metadata": {},
   "outputs": [
    {
     "data": {
      "text/plain": [
       "{'a': 1, 'b': 2}"
      ]
     },
     "execution_count": 19,
     "metadata": {},
     "output_type": "execute_result"
    }
   ],
   "source": [
    "d1"
   ]
  },
  {
   "cell_type": "code",
   "execution_count": 21,
   "metadata": {},
   "outputs": [
    {
     "data": {
      "text/plain": [
       "{'a': 1, 'b': [1, 2], 'c': 1.1}"
      ]
     },
     "execution_count": 21,
     "metadata": {},
     "output_type": "execute_result"
    }
   ],
   "source": [
    "d3"
   ]
  },
  {
   "cell_type": "code",
   "execution_count": 22,
   "metadata": {},
   "outputs": [
    {
     "data": {
      "text/plain": [
       "dict_keys(['a', 'b', 'c'])"
      ]
     },
     "execution_count": 22,
     "metadata": {},
     "output_type": "execute_result"
    }
   ],
   "source": [
    "d3.keys()"
   ]
  },
  {
   "cell_type": "code",
   "execution_count": 23,
   "metadata": {},
   "outputs": [
    {
     "data": {
      "text/plain": [
       "dict_values([1, [1, 2], 1.1])"
      ]
     },
     "execution_count": 23,
     "metadata": {},
     "output_type": "execute_result"
    }
   ],
   "source": [
    "d3.values()"
   ]
  },
  {
   "cell_type": "code",
   "execution_count": 24,
   "metadata": {},
   "outputs": [
    {
     "name": "stdout",
     "output_type": "stream",
     "text": [
      "Before:  {'a': 1, 'b': [1, 2], 'c': 1.1}\n",
      "popped_value = 1\n",
      "After:  {'b': [1, 2], 'c': 1.1}\n"
     ]
    }
   ],
   "source": [
    "print(\"Before: \", d3)\n",
    "popped_value = d3.pop('a')\n",
    "print(f\"{popped_value = }\")\n",
    "print(\"After: \",d3)"
   ]
  },
  {
   "cell_type": "code",
   "execution_count": 27,
   "metadata": {},
   "outputs": [
    {
     "name": "stdout",
     "output_type": "stream",
     "text": [
      "Before:  {'b': [1, 2], 'c': 1.1}\n",
      "popped_key_value = ('c', 1.1)\n",
      "After:  {'b': [1, 2]}\n"
     ]
    }
   ],
   "source": [
    "print(\"Before: \", d3)\n",
    "popped_key_value = d3.popitem()\n",
    "print(f\"{popped_key_value = }\")\n",
    "print(\"After: \",d3)"
   ]
  },
  {
   "cell_type": "code",
   "execution_count": 28,
   "metadata": {},
   "outputs": [
    {
     "name": "stdout",
     "output_type": "stream",
     "text": [
      "Before:  {'b': [1, 2]}\n",
      "After:  {}\n"
     ]
    }
   ],
   "source": [
    "print(\"Before: \", d3)\n",
    "del d3['b']\n",
    "print(\"After: \",d3)"
   ]
  },
  {
   "cell_type": "code",
   "execution_count": 29,
   "metadata": {},
   "outputs": [
    {
     "name": "stdout",
     "output_type": "stream",
     "text": [
      "Before:  {}\n",
      "After:  {'fruit': None}\n"
     ]
    }
   ],
   "source": [
    "print(\"Before: \", d3)\n",
    "d3.setdefault ('fruit')\n",
    "print(\"After: \",d3)"
   ]
  },
  {
   "cell_type": "code",
   "execution_count": 30,
   "metadata": {},
   "outputs": [
    {
     "name": "stdout",
     "output_type": "stream",
     "text": [
      "Before:  {'fruit': None}\n",
      "After:  {'fruit': None, 'fruit1': None}\n"
     ]
    }
   ],
   "source": [
    "print(\"Before: \", d3)\n",
    "d3['fruit1'] = None\n",
    "print(\"After: \",d3)"
   ]
  },
  {
   "cell_type": "code",
   "execution_count": null,
   "metadata": {},
   "outputs": [
    {
     "name": "stdout",
     "output_type": "stream",
     "text": [
      "Before:  {'a': 1, 'b': 2, 'c': 3, 'd': 4}\n",
      "new_d = {'a': None, 'b': None}\n",
      "After:  {'a': 1, 'b': 2, 'c': 3, 'd': 4}\n"
     ]
    }
   ],
   "source": [
    "d1 = {'a':1, 'b':2, 'c':3, 'd':4}\n",
    "\n",
    "print(\"Before: \", d1)\n",
    "new_d = d1.fromkeys(['a', 'b'])\n",
    "#creates new dictionary\n",
    "# applies setdefault for multiple\n",
    "\n",
    "print(f\"{new_d = }\")\n",
    "print(\"After: \",d1)"
   ]
  },
  {
   "cell_type": "code",
   "execution_count": 32,
   "metadata": {},
   "outputs": [
    {
     "name": "stdout",
     "output_type": "stream",
     "text": [
      "Before:  {'a': 1, 'b': 2, 'c': 3, 'd': 4}\n",
      "new_d = {'a': 5, 'b': 5}\n",
      "After:  {'a': 1, 'b': 2, 'c': 3, 'd': 4}\n"
     ]
    }
   ],
   "source": [
    "d1 = {'a':1, 'b':2, 'c':3, 'd':4}\n",
    "\n",
    "print(\"Before: \", d1)\n",
    "new_d = d1.fromkeys(['a', 'b'], 5)\n",
    "# applies 5 for multiple\n",
    "\n",
    "print(f\"{new_d = }\")\n",
    "print(\"After: \",d1)"
   ]
  },
  {
   "cell_type": "code",
   "execution_count": 33,
   "metadata": {},
   "outputs": [
    {
     "name": "stdout",
     "output_type": "stream",
     "text": [
      "Before:  {'a': 1, 'b': 2, 'c': 3, 'd': 4}\n",
      "k_v = dict_items([('a', 1), ('b', 2), ('c', 3), ('d', 4)])\n",
      "After:  {'a': 1, 'b': 2, 'c': 3, 'd': 4}\n"
     ]
    }
   ],
   "source": [
    "d1 = {'a':1, 'b':2, 'c':3, 'd':4}\n",
    "\n",
    "print(\"Before: \", d1)\n",
    "k_v = d1.items()\n",
    "\n",
    "print(f\"{k_v = }\")\n",
    "print(\"After: \",d1)"
   ]
  }
 ],
 "metadata": {
  "kernelspec": {
   "display_name": "virtual",
   "language": "python",
   "name": "python3"
  },
  "language_info": {
   "codemirror_mode": {
    "name": "ipython",
    "version": 3
   },
   "file_extension": ".py",
   "mimetype": "text/x-python",
   "name": "python",
   "nbconvert_exporter": "python",
   "pygments_lexer": "ipython3",
   "version": "3.12.2"
  }
 },
 "nbformat": 4,
 "nbformat_minor": 2
}
